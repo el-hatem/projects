{
 "cells": [
  {
   "cell_type": "markdown",
   "id": "ea6bbbcd",
   "metadata": {
    "id": "bA5ajAmk7XH6"
   },
   "source": [
    "# DataCamp Certification Case Study\n",
    "\n",
    "### Project Brief\n",
    "\n",
    "You are on the data science team for a coffee company that is looking to expand their business into Ukraine. They want to get an understanding of the existing coffee shop market there.\n",
    "\n",
    "You have a dataset from Google businesses. It contains information about coffee shops in Ukraine. The marketing manager wants to identify the key coffee shop segments. They will use this to construct their marketing plan. In their current location, they split the market into 5 segments. The marketing manager wants to know how many segments are in this new market, and their key features.\n",
    "\n",
    "You will be presenting your findings to the Marketing Manager, who has no data science background.\n",
    "\n",
    "The data you will use for this analysis can be accessed here: `\"data/coffee_shops.csv\"`"
   ]
  },
  {
   "cell_type": "markdown",
   "id": "91ac045d",
   "metadata": {
    "tags": []
   },
   "source": [
    "# Required Tools\n",
    "| Library | Description |\n",
    "| ----------- | ----------- |\n",
    "| [numpy](https://numpy.org) | adding support for large, multi-dimensional arrays and matrices |\n",
    "| [pandas](https://pandas.pydata.org) | for data manipulation and analysis. |\n",
    "| [sciket-learn](https://scikit-learn.org) | it features various classification, regression and clustering algorithms including support vector machines|\n",
    "| [matplotlib](https://matplotlib.org) & [seaborn](https://seaborn.pydata.org)| is a plotting library |\n"
   ]
  },
  {
   "cell_type": "markdown",
   "id": "b5c9820a",
   "metadata": {},
   "source": [
    "# 1. Analysis Plan\n",
    "The analysis plan is to answer the questions.\n",
    "1. What kinds of services do these coffee shops provide in Ukraine?\n",
    "2. In the cluster with higher ratings and reviews, what services do the coffee places provide?\n",
    "3. Where are the coffee shops located?\n"
   ]
  },
  {
   "cell_type": "markdown",
   "id": "92b03746",
   "metadata": {},
   "source": [
    "# 2. Dataset\n",
    "The data contains 200 rows and 9 columns. The columns are as below.\n",
    "* Region: Character, one of 10 possible regions where coffee shop is located\n",
    "* Place name: Character, name of the shop\n",
    "* Place type: Character, the type of coffee shop (e.g., “Cafe”, “Espresso Bar”...)\n",
    "* Rating: Numeric, coffee shop rating (on a 5 point scale)\n",
    "* Reviews: Numeric, number of reviews provided for the shop\n",
    "* Price: Character, price category (e.g., $, $$)\n",
    "* Delivery option: True/False, describing, whether there is (or isn’t) a delivery option\n",
    "* Dine in option: Column describing whether there is (True) or isn’t (missing) a dine-in option\n",
    "* Takeout option: Column describing whether there is (True) or isn’t (missing) a takeout option\n",
    "\n",
    "**Target**:  identify the key coffee shops in Ukraine in order to build up the next marketing plans."
   ]
  },
  {
   "cell_type": "markdown",
   "id": "fc2c590a",
   "metadata": {
    "tags": []
   },
   "source": [
    "# 3. Analysis Proccess"
   ]
  },
  {
   "cell_type": "markdown",
   "id": "44351757",
   "metadata": {},
   "source": [
    "## 3.1 Data Pre-proccessing\n",
    "This section also involves data cleansing with an exploratory data analysis.\n",
    "\n",
    "\n",
    "\n"
   ]
  },
  {
   "cell_type": "code",
   "execution_count": 75,
   "id": "04e74c35",
   "metadata": {},
   "outputs": [],
   "source": [
    "import pandas as pd\n",
    "import numpy as np\n",
    "import matplotlib.pyplot as plt\n",
    "import seaborn as sns\n"
   ]
  },
  {
   "cell_type": "code",
   "execution_count": 76,
   "id": "09c56687",
   "metadata": {},
   "outputs": [
    {
     "data": {
      "text/html": [
       "<div>\n",
       "<style scoped>\n",
       "    .dataframe tbody tr th:only-of-type {\n",
       "        vertical-align: middle;\n",
       "    }\n",
       "\n",
       "    .dataframe tbody tr th {\n",
       "        vertical-align: top;\n",
       "    }\n",
       "\n",
       "    .dataframe thead th {\n",
       "        text-align: right;\n",
       "    }\n",
       "</style>\n",
       "<table border=\"1\" class=\"dataframe\">\n",
       "  <thead>\n",
       "    <tr style=\"text-align: right;\">\n",
       "      <th></th>\n",
       "      <th>Region</th>\n",
       "      <th>Place name</th>\n",
       "      <th>Place type</th>\n",
       "      <th>Rating</th>\n",
       "      <th>Reviews</th>\n",
       "      <th>Price</th>\n",
       "      <th>Delivery option</th>\n",
       "      <th>Dine in option</th>\n",
       "      <th>Takeout option</th>\n",
       "    </tr>\n",
       "  </thead>\n",
       "  <tbody>\n",
       "    <tr>\n",
       "      <th>185</th>\n",
       "      <td>Dnipro</td>\n",
       "      <td>Horizontal kaffee</td>\n",
       "      <td>Cafe</td>\n",
       "      <td>5.0</td>\n",
       "      <td>37.0</td>\n",
       "      <td>NaN</td>\n",
       "      <td>False</td>\n",
       "      <td>True</td>\n",
       "      <td>NaN</td>\n",
       "    </tr>\n",
       "    <tr>\n",
       "      <th>145</th>\n",
       "      <td>Kiev</td>\n",
       "      <td>Cuba Coffee Brew - Bar</td>\n",
       "      <td>Espresso bar</td>\n",
       "      <td>4.6</td>\n",
       "      <td>693.0</td>\n",
       "      <td>$$</td>\n",
       "      <td>False</td>\n",
       "      <td>True</td>\n",
       "      <td>True</td>\n",
       "    </tr>\n",
       "    <tr>\n",
       "      <th>173</th>\n",
       "      <td>Kharkiv</td>\n",
       "      <td>Sweeter</td>\n",
       "      <td>Coffee shop</td>\n",
       "      <td>4.6</td>\n",
       "      <td>289.0</td>\n",
       "      <td>$$</td>\n",
       "      <td>False</td>\n",
       "      <td>True</td>\n",
       "      <td>True</td>\n",
       "    </tr>\n",
       "    <tr>\n",
       "      <th>123</th>\n",
       "      <td>Khrivoy Rog</td>\n",
       "      <td>Кофейня My Coffee</td>\n",
       "      <td>Cafe</td>\n",
       "      <td>4.5</td>\n",
       "      <td>124.0</td>\n",
       "      <td>$$</td>\n",
       "      <td>False</td>\n",
       "      <td>NaN</td>\n",
       "      <td>True</td>\n",
       "    </tr>\n",
       "    <tr>\n",
       "      <th>138</th>\n",
       "      <td>Khrivoy Rog</td>\n",
       "      <td>The Spiceroom</td>\n",
       "      <td>Cafe</td>\n",
       "      <td>4.6</td>\n",
       "      <td>38.0</td>\n",
       "      <td>NaN</td>\n",
       "      <td>True</td>\n",
       "      <td>NaN</td>\n",
       "      <td>True</td>\n",
       "    </tr>\n",
       "  </tbody>\n",
       "</table>\n",
       "</div>"
      ],
      "text/plain": [
       "          Region              Place name    Place type  Rating  Reviews Price  \\\n",
       "185       Dnipro       Horizontal kaffee          Cafe     5.0     37.0   NaN   \n",
       "145         Kiev  Cuba Coffee Brew - Bar  Espresso bar     4.6    693.0    $$   \n",
       "173      Kharkiv                 Sweeter   Coffee shop     4.6    289.0    $$   \n",
       "123  Khrivoy Rog       Кофейня My Coffee          Cafe     4.5    124.0    $$   \n",
       "138  Khrivoy Rog           The Spiceroom          Cafe     4.6     38.0   NaN   \n",
       "\n",
       "    Delivery option Dine in option Takeout option  \n",
       "185           False           True            NaN  \n",
       "145           False           True           True  \n",
       "173           False           True           True  \n",
       "123           False            NaN           True  \n",
       "138            True            NaN           True  "
      ]
     },
     "execution_count": 76,
     "metadata": {},
     "output_type": "execute_result"
    }
   ],
   "source": [
    "data = pd.read_csv('data/coffee_shops.csv')\n",
    "\n",
    "# display  5 observasions\n",
    "data.sample(n=5)"
   ]
  },
  {
   "cell_type": "code",
   "execution_count": 77,
   "id": "ffab126e",
   "metadata": {},
   "outputs": [
    {
     "data": {
      "text/plain": [
       "(200, 9)"
      ]
     },
     "execution_count": 77,
     "metadata": {},
     "output_type": "execute_result"
    }
   ],
   "source": [
    "data.shape # display (how many rows, how many columns)"
   ]
  },
  {
   "cell_type": "code",
   "execution_count": 78,
   "id": "f1c25bd1",
   "metadata": {},
   "outputs": [
    {
     "data": {
      "text/html": [
       "<div>\n",
       "<style scoped>\n",
       "    .dataframe tbody tr th:only-of-type {\n",
       "        vertical-align: middle;\n",
       "    }\n",
       "\n",
       "    .dataframe tbody tr th {\n",
       "        vertical-align: top;\n",
       "    }\n",
       "\n",
       "    .dataframe thead th {\n",
       "        text-align: right;\n",
       "    }\n",
       "</style>\n",
       "<table border=\"1\" class=\"dataframe\">\n",
       "  <thead>\n",
       "    <tr style=\"text-align: right;\">\n",
       "      <th></th>\n",
       "      <th>DataType</th>\n",
       "      <th>Missing Values</th>\n",
       "      <th>Unique Values</th>\n",
       "    </tr>\n",
       "  </thead>\n",
       "  <tbody>\n",
       "    <tr>\n",
       "      <th>Region</th>\n",
       "      <td>object</td>\n",
       "      <td>0</td>\n",
       "      <td>10</td>\n",
       "    </tr>\n",
       "    <tr>\n",
       "      <th>Place name</th>\n",
       "      <td>object</td>\n",
       "      <td>0</td>\n",
       "      <td>187</td>\n",
       "    </tr>\n",
       "    <tr>\n",
       "      <th>Place type</th>\n",
       "      <td>object</td>\n",
       "      <td>0</td>\n",
       "      <td>14</td>\n",
       "    </tr>\n",
       "    <tr>\n",
       "      <th>Rating</th>\n",
       "      <td>float64</td>\n",
       "      <td>2</td>\n",
       "      <td>12</td>\n",
       "    </tr>\n",
       "    <tr>\n",
       "      <th>Reviews</th>\n",
       "      <td>float64</td>\n",
       "      <td>2</td>\n",
       "      <td>163</td>\n",
       "    </tr>\n",
       "    <tr>\n",
       "      <th>Price</th>\n",
       "      <td>object</td>\n",
       "      <td>78</td>\n",
       "      <td>3</td>\n",
       "    </tr>\n",
       "    <tr>\n",
       "      <th>Delivery option</th>\n",
       "      <td>object</td>\n",
       "      <td>71</td>\n",
       "      <td>2</td>\n",
       "    </tr>\n",
       "    <tr>\n",
       "      <th>Dine in option</th>\n",
       "      <td>object</td>\n",
       "      <td>60</td>\n",
       "      <td>1</td>\n",
       "    </tr>\n",
       "    <tr>\n",
       "      <th>Takeout option</th>\n",
       "      <td>object</td>\n",
       "      <td>56</td>\n",
       "      <td>1</td>\n",
       "    </tr>\n",
       "  </tbody>\n",
       "</table>\n",
       "</div>"
      ],
      "text/plain": [
       "                DataType  Missing Values  Unique Values\n",
       "Region            object               0             10\n",
       "Place name        object               0            187\n",
       "Place type        object               0             14\n",
       "Rating           float64               2             12\n",
       "Reviews          float64               2            163\n",
       "Price             object              78              3\n",
       "Delivery option   object              71              2\n",
       "Dine in option    object              60              1\n",
       "Takeout option    object              56              1"
      ]
     },
     "execution_count": 78,
     "metadata": {},
     "output_type": "execute_result"
    }
   ],
   "source": [
    "Data_dict = pd.DataFrame(data.dtypes)\n",
    "Data_dict = Data_dict.rename(columns = {0:'DataType'})\n",
    "Data_dict['Missing Values'] = data.isnull().sum()\n",
    "Data_dict['Unique Values'] = data.nunique()\n",
    "\n",
    "\n",
    "Data_dict"
   ]
  },
  {
   "cell_type": "markdown",
   "id": "7ec7ecd6",
   "metadata": {},
   "source": [
    "* Because of few missing values in the Rating and Reviews columns, replacing the missing values with average numbers is an idea."
   ]
  },
  {
   "cell_type": "code",
   "execution_count": 79,
   "id": "66514496",
   "metadata": {},
   "outputs": [
    {
     "data": {
      "text/html": [
       "<div>\n",
       "<style scoped>\n",
       "    .dataframe tbody tr th:only-of-type {\n",
       "        vertical-align: middle;\n",
       "    }\n",
       "\n",
       "    .dataframe tbody tr th {\n",
       "        vertical-align: top;\n",
       "    }\n",
       "\n",
       "    .dataframe thead th {\n",
       "        text-align: right;\n",
       "    }\n",
       "</style>\n",
       "<table border=\"1\" class=\"dataframe\">\n",
       "  <thead>\n",
       "    <tr style=\"text-align: right;\">\n",
       "      <th></th>\n",
       "      <th>DataType</th>\n",
       "      <th>Missing Values</th>\n",
       "      <th>Unique Values</th>\n",
       "    </tr>\n",
       "  </thead>\n",
       "  <tbody>\n",
       "    <tr>\n",
       "      <th>Region</th>\n",
       "      <td>object</td>\n",
       "      <td>0</td>\n",
       "      <td>10</td>\n",
       "    </tr>\n",
       "    <tr>\n",
       "      <th>Place name</th>\n",
       "      <td>object</td>\n",
       "      <td>0</td>\n",
       "      <td>187</td>\n",
       "    </tr>\n",
       "    <tr>\n",
       "      <th>Place type</th>\n",
       "      <td>object</td>\n",
       "      <td>0</td>\n",
       "      <td>14</td>\n",
       "    </tr>\n",
       "    <tr>\n",
       "      <th>Rating</th>\n",
       "      <td>float64</td>\n",
       "      <td>0</td>\n",
       "      <td>12</td>\n",
       "    </tr>\n",
       "    <tr>\n",
       "      <th>Reviews</th>\n",
       "      <td>float64</td>\n",
       "      <td>0</td>\n",
       "      <td>163</td>\n",
       "    </tr>\n",
       "    <tr>\n",
       "      <th>Price</th>\n",
       "      <td>object</td>\n",
       "      <td>78</td>\n",
       "      <td>3</td>\n",
       "    </tr>\n",
       "    <tr>\n",
       "      <th>Delivery option</th>\n",
       "      <td>object</td>\n",
       "      <td>71</td>\n",
       "      <td>2</td>\n",
       "    </tr>\n",
       "    <tr>\n",
       "      <th>Dine in option</th>\n",
       "      <td>object</td>\n",
       "      <td>60</td>\n",
       "      <td>1</td>\n",
       "    </tr>\n",
       "    <tr>\n",
       "      <th>Takeout option</th>\n",
       "      <td>object</td>\n",
       "      <td>56</td>\n",
       "      <td>1</td>\n",
       "    </tr>\n",
       "  </tbody>\n",
       "</table>\n",
       "</div>"
      ],
      "text/plain": [
       "                DataType  Missing Values  Unique Values\n",
       "Region            object               0             10\n",
       "Place name        object               0            187\n",
       "Place type        object               0             14\n",
       "Rating           float64               0             12\n",
       "Reviews          float64               0            163\n",
       "Price             object              78              3\n",
       "Delivery option   object              71              2\n",
       "Dine in option    object              60              1\n",
       "Takeout option    object              56              1"
      ]
     },
     "execution_count": 79,
     "metadata": {},
     "output_type": "execute_result"
    }
   ],
   "source": [
    "#replace the missing values by average numbers for Rating and Reviews columns\n",
    "data['Rating'] = data['Rating'].fillna(data['Rating'].mean())\n",
    "data['Reviews'] = data['Reviews'].fillna(data['Reviews'].mean())\n",
    "\n",
    "# display data dictionary after pre-proccessing\n",
    "Data_dict['Missing Values'] = data.isnull().sum()\n",
    "Data_dict "
   ]
  },
  {
   "cell_type": "code",
   "execution_count": 80,
   "id": "264aebf3",
   "metadata": {},
   "outputs": [
    {
     "name": "stdout",
     "output_type": "stream",
     "text": [
      "Price\n",
      "$$     116\n",
      "$$$      4\n",
      "$        2\n",
      "Name: Price, dtype: int64\n",
      "\n",
      "Delivery option\n",
      "False    94\n",
      "True     35\n",
      "Name: Delivery option, dtype: int64\n",
      "\n",
      "Dine in option\n",
      "True    140\n",
      "Name: Dine in option, dtype: int64\n",
      "\n",
      "Takeout option\n",
      "True    144\n",
      "Name: Takeout option, dtype: int64\n",
      "\n"
     ]
    }
   ],
   "source": [
    "na_list = ['Price', 'Delivery option', 'Dine in option', 'Takeout option']\n",
    "\n",
    "for na in na_list:\n",
    "    counts = data[na].value_counts()\n",
    "    print('{}\\n{}\\n'.format(na, counts))"
   ]
  },
  {
   "cell_type": "markdown",
   "id": "5c14e47e",
   "metadata": {},
   "source": [
    "* As for the price, most values are either $$ or missing values, so removing the price column should be fine because it does not provide enough information\n",
    "\n",
    "* Regarding the dine-in and takeout services, the variables in these columns are either \"True\" and missing values. Thus, it is obvious that the missing values should be \"False,\" which means the shops do not provide dine-in or takeout options.\n",
    "\n",
    "* Lastly, since the missing values in the Delivery column are neither \"True\" nor \"False,\" this analysis replace the missing values with \"unknown.\""
   ]
  },
  {
   "cell_type": "code",
   "execution_count": 81,
   "id": "d5c94bf3",
   "metadata": {},
   "outputs": [
    {
     "data": {
      "text/html": [
       "<div>\n",
       "<style scoped>\n",
       "    .dataframe tbody tr th:only-of-type {\n",
       "        vertical-align: middle;\n",
       "    }\n",
       "\n",
       "    .dataframe tbody tr th {\n",
       "        vertical-align: top;\n",
       "    }\n",
       "\n",
       "    .dataframe thead th {\n",
       "        text-align: right;\n",
       "    }\n",
       "</style>\n",
       "<table border=\"1\" class=\"dataframe\">\n",
       "  <thead>\n",
       "    <tr style=\"text-align: right;\">\n",
       "      <th></th>\n",
       "      <th>DataType</th>\n",
       "      <th>Missing Values</th>\n",
       "      <th>Unique Values</th>\n",
       "    </tr>\n",
       "  </thead>\n",
       "  <tbody>\n",
       "    <tr>\n",
       "      <th>Region</th>\n",
       "      <td>object</td>\n",
       "      <td>0.0</td>\n",
       "      <td>10</td>\n",
       "    </tr>\n",
       "    <tr>\n",
       "      <th>Place name</th>\n",
       "      <td>object</td>\n",
       "      <td>0.0</td>\n",
       "      <td>187</td>\n",
       "    </tr>\n",
       "    <tr>\n",
       "      <th>Place type</th>\n",
       "      <td>object</td>\n",
       "      <td>0.0</td>\n",
       "      <td>14</td>\n",
       "    </tr>\n",
       "    <tr>\n",
       "      <th>Rating</th>\n",
       "      <td>float64</td>\n",
       "      <td>0.0</td>\n",
       "      <td>12</td>\n",
       "    </tr>\n",
       "    <tr>\n",
       "      <th>Reviews</th>\n",
       "      <td>float64</td>\n",
       "      <td>0.0</td>\n",
       "      <td>163</td>\n",
       "    </tr>\n",
       "    <tr>\n",
       "      <th>Price</th>\n",
       "      <td>object</td>\n",
       "      <td>NaN</td>\n",
       "      <td>3</td>\n",
       "    </tr>\n",
       "    <tr>\n",
       "      <th>Delivery option</th>\n",
       "      <td>object</td>\n",
       "      <td>0.0</td>\n",
       "      <td>2</td>\n",
       "    </tr>\n",
       "    <tr>\n",
       "      <th>Dine in option</th>\n",
       "      <td>object</td>\n",
       "      <td>0.0</td>\n",
       "      <td>1</td>\n",
       "    </tr>\n",
       "    <tr>\n",
       "      <th>Takeout option</th>\n",
       "      <td>object</td>\n",
       "      <td>0.0</td>\n",
       "      <td>1</td>\n",
       "    </tr>\n",
       "  </tbody>\n",
       "</table>\n",
       "</div>"
      ],
      "text/plain": [
       "                DataType  Missing Values  Unique Values\n",
       "Region            object             0.0             10\n",
       "Place name        object             0.0            187\n",
       "Place type        object             0.0             14\n",
       "Rating           float64             0.0             12\n",
       "Reviews          float64             0.0            163\n",
       "Price             object             NaN              3\n",
       "Delivery option   object             0.0              2\n",
       "Dine in option    object             0.0              1\n",
       "Takeout option    object             0.0              1"
      ]
     },
     "execution_count": 81,
     "metadata": {},
     "output_type": "execute_result"
    }
   ],
   "source": [
    "data = data.drop('Price', axis=1)\n",
    "data['Dine in option'] = data['Dine in option'].fillna('False')\n",
    "data['Takeout option'] = data['Takeout option'].fillna('False')\n",
    "data['Delivery option'] = data['Delivery option'].fillna('unknown')\n",
    "\n",
    "# display data dictionary after pre-proccessing\n",
    "Data_dict['Missing Values'] = data.isnull().sum()\n",
    "Data_dict "
   ]
  },
  {
   "cell_type": "code",
   "execution_count": 82,
   "id": "aacacc7b",
   "metadata": {},
   "outputs": [
    {
     "name": "stdout",
     "output_type": "stream",
     "text": [
      "<class 'pandas.core.frame.DataFrame'>\n",
      "RangeIndex: 200 entries, 0 to 199\n",
      "Data columns (total 8 columns):\n",
      " #   Column           Non-Null Count  Dtype  \n",
      "---  ------           --------------  -----  \n",
      " 0   Region           200 non-null    object \n",
      " 1   Place name       200 non-null    object \n",
      " 2   Place type       200 non-null    object \n",
      " 3   Rating           200 non-null    float64\n",
      " 4   Reviews          200 non-null    int64  \n",
      " 5   Delivery option  200 non-null    object \n",
      " 6   Dine in option   200 non-null    object \n",
      " 7   Takeout option   200 non-null    object \n",
      "dtypes: float64(1), int64(1), object(6)\n",
      "memory usage: 12.6+ KB\n"
     ]
    }
   ],
   "source": [
    "#change the variable type in the Reviews columns to integer\n",
    "data['Reviews'] = data['Reviews'].astype('int')\n",
    "data.info()"
   ]
  },
  {
   "cell_type": "code",
   "execution_count": 83,
   "id": "bf0e2907",
   "metadata": {},
   "outputs": [
    {
     "data": {
      "text/plain": [
       "Region\n",
       "Dnipro         20\n",
       "Kharkiv        20\n",
       "Kherson        20\n",
       "Khrivoy Rog    20\n",
       "Kiev           20\n",
       "Lviv           20\n",
       "Mariupol       20\n",
       "Odessa         20\n",
       "Poltava        20\n",
       "Zaporozhye     20\n",
       "Name: Place name, dtype: int64"
      ]
     },
     "execution_count": 83,
     "metadata": {},
     "output_type": "execute_result"
    }
   ],
   "source": [
    "#review the number of shops in different regions\n",
    "data.groupby('Region')['Place name'].count()\n"
   ]
  },
  {
   "cell_type": "code",
   "execution_count": 84,
   "id": "cf0d9a39",
   "metadata": {
    "jupyter": {
     "source_hidden": true
    },
    "tags": []
   },
   "outputs": [
    {
     "data": {
      "text/plain": [
       "Region\n",
       "Dnipro         20\n",
       "Kharkiv        18\n",
       "Kherson        20\n",
       "Khrivoy Rog    19\n",
       "Kiev           19\n",
       "Lviv           18\n",
       "Mariupol       20\n",
       "Odessa         20\n",
       "Poltava        20\n",
       "Zaporozhye     20\n",
       "Name: Place name, dtype: int64"
      ]
     },
     "execution_count": 84,
     "metadata": {},
     "output_type": "execute_result"
    }
   ],
   "source": [
    "#chech whether there is a duplicated value in the Place Name column\n",
    "data.groupby('Region')['Place name'].nunique()"
   ]
  },
  {
   "cell_type": "markdown",
   "id": "60878a96",
   "metadata": {
    "tags": []
   },
   "source": [
    "It seems there are some franchise coffee shops in this dataset. They have the same name in different regions, or some of them are in the same regions. However, it is acceptable since they are different shops providing different services. This analysis will keep these duplicated place names."
   ]
  },
  {
   "cell_type": "code",
   "execution_count": 85,
   "id": "95ae037a",
   "metadata": {
    "tags": []
   },
   "outputs": [
    {
     "data": {
      "text/html": [
       "<div>\n",
       "<style scoped>\n",
       "    .dataframe tbody tr th:only-of-type {\n",
       "        vertical-align: middle;\n",
       "    }\n",
       "\n",
       "    .dataframe tbody tr th {\n",
       "        vertical-align: top;\n",
       "    }\n",
       "\n",
       "    .dataframe thead th {\n",
       "        text-align: right;\n",
       "    }\n",
       "</style>\n",
       "<table border=\"1\" class=\"dataframe\">\n",
       "  <thead>\n",
       "    <tr style=\"text-align: right;\">\n",
       "      <th></th>\n",
       "      <th>Region</th>\n",
       "      <th>Place name</th>\n",
       "      <th>Place type</th>\n",
       "      <th>Rating</th>\n",
       "      <th>Reviews</th>\n",
       "      <th>Delivery option</th>\n",
       "      <th>Dine in option</th>\n",
       "      <th>Takeout option</th>\n",
       "    </tr>\n",
       "  </thead>\n",
       "  <tbody>\n",
       "    <tr>\n",
       "      <th>23</th>\n",
       "      <td>Poltava</td>\n",
       "      <td>Coffee House</td>\n",
       "      <td>Cafe</td>\n",
       "      <td>4.7</td>\n",
       "      <td>329</td>\n",
       "      <td>False</td>\n",
       "      <td>False</td>\n",
       "      <td>True</td>\n",
       "    </tr>\n",
       "    <tr>\n",
       "      <th>45</th>\n",
       "      <td>Kherson</td>\n",
       "      <td>coffee House</td>\n",
       "      <td>Coffee shop</td>\n",
       "      <td>4.7</td>\n",
       "      <td>279</td>\n",
       "      <td>False</td>\n",
       "      <td>True</td>\n",
       "      <td>True</td>\n",
       "    </tr>\n",
       "    <tr>\n",
       "      <th>66</th>\n",
       "      <td>Zaporozhye</td>\n",
       "      <td>Dim Kavy</td>\n",
       "      <td>Espresso bar</td>\n",
       "      <td>4.8</td>\n",
       "      <td>118</td>\n",
       "      <td>unknown</td>\n",
       "      <td>False</td>\n",
       "      <td>False</td>\n",
       "    </tr>\n",
       "    <tr>\n",
       "      <th>68</th>\n",
       "      <td>Zaporozhye</td>\n",
       "      <td>Coffee House</td>\n",
       "      <td>Store</td>\n",
       "      <td>4.7</td>\n",
       "      <td>132</td>\n",
       "      <td>unknown</td>\n",
       "      <td>False</td>\n",
       "      <td>False</td>\n",
       "    </tr>\n",
       "    <tr>\n",
       "      <th>71</th>\n",
       "      <td>Zaporozhye</td>\n",
       "      <td>MY COFFEE</td>\n",
       "      <td>Coffee shop</td>\n",
       "      <td>4.5</td>\n",
       "      <td>341</td>\n",
       "      <td>False</td>\n",
       "      <td>True</td>\n",
       "      <td>True</td>\n",
       "    </tr>\n",
       "    <tr>\n",
       "      <th>97</th>\n",
       "      <td>Odessa</td>\n",
       "      <td>MY COFFEE</td>\n",
       "      <td>Coffee shop</td>\n",
       "      <td>4.8</td>\n",
       "      <td>150</td>\n",
       "      <td>False</td>\n",
       "      <td>True</td>\n",
       "      <td>True</td>\n",
       "    </tr>\n",
       "    <tr>\n",
       "      <th>100</th>\n",
       "      <td>Lviv</td>\n",
       "      <td>Lviv Coffee Manufacture</td>\n",
       "      <td>Coffee shop</td>\n",
       "      <td>4.7</td>\n",
       "      <td>17937</td>\n",
       "      <td>True</td>\n",
       "      <td>True</td>\n",
       "      <td>True</td>\n",
       "    </tr>\n",
       "    <tr>\n",
       "      <th>101</th>\n",
       "      <td>Lviv</td>\n",
       "      <td>Svit Kavy</td>\n",
       "      <td>Coffee shop</td>\n",
       "      <td>4.6</td>\n",
       "      <td>2931</td>\n",
       "      <td>unknown</td>\n",
       "      <td>True</td>\n",
       "      <td>True</td>\n",
       "    </tr>\n",
       "    <tr>\n",
       "      <th>107</th>\n",
       "      <td>Lviv</td>\n",
       "      <td>Svit Kavy</td>\n",
       "      <td>Coffee shop</td>\n",
       "      <td>4.3</td>\n",
       "      <td>102</td>\n",
       "      <td>unknown</td>\n",
       "      <td>True</td>\n",
       "      <td>True</td>\n",
       "    </tr>\n",
       "    <tr>\n",
       "      <th>108</th>\n",
       "      <td>Lviv</td>\n",
       "      <td>Lviv Coffee Manufacture</td>\n",
       "      <td>Coffee shop</td>\n",
       "      <td>4.5</td>\n",
       "      <td>778</td>\n",
       "      <td>False</td>\n",
       "      <td>True</td>\n",
       "      <td>True</td>\n",
       "    </tr>\n",
       "    <tr>\n",
       "      <th>112</th>\n",
       "      <td>Lviv</td>\n",
       "      <td>coffee House</td>\n",
       "      <td>Coffee shop</td>\n",
       "      <td>4.7</td>\n",
       "      <td>363</td>\n",
       "      <td>False</td>\n",
       "      <td>True</td>\n",
       "      <td>True</td>\n",
       "    </tr>\n",
       "    <tr>\n",
       "      <th>120</th>\n",
       "      <td>Khrivoy Rog</td>\n",
       "      <td>SV Кафе</td>\n",
       "      <td>Cafe</td>\n",
       "      <td>4.5</td>\n",
       "      <td>998</td>\n",
       "      <td>True</td>\n",
       "      <td>True</td>\n",
       "      <td>True</td>\n",
       "    </tr>\n",
       "    <tr>\n",
       "      <th>132</th>\n",
       "      <td>Khrivoy Rog</td>\n",
       "      <td>SV Кафе</td>\n",
       "      <td>Cafe</td>\n",
       "      <td>4.6</td>\n",
       "      <td>740</td>\n",
       "      <td>False</td>\n",
       "      <td>True</td>\n",
       "      <td>True</td>\n",
       "    </tr>\n",
       "    <tr>\n",
       "      <th>151</th>\n",
       "      <td>Kiev</td>\n",
       "      <td>Kaffa</td>\n",
       "      <td>Cafe</td>\n",
       "      <td>4.7</td>\n",
       "      <td>1281</td>\n",
       "      <td>False</td>\n",
       "      <td>True</td>\n",
       "      <td>True</td>\n",
       "    </tr>\n",
       "    <tr>\n",
       "      <th>154</th>\n",
       "      <td>Kiev</td>\n",
       "      <td>Kaffa</td>\n",
       "      <td>Espresso bar</td>\n",
       "      <td>4.8</td>\n",
       "      <td>824</td>\n",
       "      <td>False</td>\n",
       "      <td>True</td>\n",
       "      <td>True</td>\n",
       "    </tr>\n",
       "    <tr>\n",
       "      <th>161</th>\n",
       "      <td>Kharkiv</td>\n",
       "      <td>Coffee House</td>\n",
       "      <td>Espresso bar</td>\n",
       "      <td>4.5</td>\n",
       "      <td>268</td>\n",
       "      <td>unknown</td>\n",
       "      <td>False</td>\n",
       "      <td>False</td>\n",
       "    </tr>\n",
       "    <tr>\n",
       "      <th>162</th>\n",
       "      <td>Kharkiv</td>\n",
       "      <td>Sweeter</td>\n",
       "      <td>Coffee shop</td>\n",
       "      <td>4.6</td>\n",
       "      <td>642</td>\n",
       "      <td>False</td>\n",
       "      <td>True</td>\n",
       "      <td>True</td>\n",
       "    </tr>\n",
       "    <tr>\n",
       "      <th>167</th>\n",
       "      <td>Kharkiv</td>\n",
       "      <td>coffee House</td>\n",
       "      <td>Cafe</td>\n",
       "      <td>4.6</td>\n",
       "      <td>96</td>\n",
       "      <td>False</td>\n",
       "      <td>False</td>\n",
       "      <td>False</td>\n",
       "    </tr>\n",
       "    <tr>\n",
       "      <th>171</th>\n",
       "      <td>Kharkiv</td>\n",
       "      <td>Dim Kavy</td>\n",
       "      <td>Espresso bar</td>\n",
       "      <td>4.7</td>\n",
       "      <td>185</td>\n",
       "      <td>unknown</td>\n",
       "      <td>False</td>\n",
       "      <td>False</td>\n",
       "    </tr>\n",
       "    <tr>\n",
       "      <th>172</th>\n",
       "      <td>Kharkiv</td>\n",
       "      <td>Dim Kavy</td>\n",
       "      <td>Coffee store</td>\n",
       "      <td>4.7</td>\n",
       "      <td>222</td>\n",
       "      <td>unknown</td>\n",
       "      <td>True</td>\n",
       "      <td>True</td>\n",
       "    </tr>\n",
       "    <tr>\n",
       "      <th>173</th>\n",
       "      <td>Kharkiv</td>\n",
       "      <td>Sweeter</td>\n",
       "      <td>Coffee shop</td>\n",
       "      <td>4.6</td>\n",
       "      <td>289</td>\n",
       "      <td>False</td>\n",
       "      <td>True</td>\n",
       "      <td>True</td>\n",
       "    </tr>\n",
       "    <tr>\n",
       "      <th>181</th>\n",
       "      <td>Dnipro</td>\n",
       "      <td>Dim Kavy</td>\n",
       "      <td>Store</td>\n",
       "      <td>4.9</td>\n",
       "      <td>39</td>\n",
       "      <td>unknown</td>\n",
       "      <td>False</td>\n",
       "      <td>False</td>\n",
       "    </tr>\n",
       "  </tbody>\n",
       "</table>\n",
       "</div>"
      ],
      "text/plain": [
       "          Region               Place name    Place type  Rating  Reviews  \\\n",
       "23       Poltava             Coffee House          Cafe     4.7      329   \n",
       "45       Kherson             coffee House   Coffee shop     4.7      279   \n",
       "66    Zaporozhye                 Dim Kavy  Espresso bar     4.8      118   \n",
       "68    Zaporozhye             Coffee House         Store     4.7      132   \n",
       "71    Zaporozhye                MY COFFEE   Coffee shop     4.5      341   \n",
       "97        Odessa                MY COFFEE   Coffee shop     4.8      150   \n",
       "100         Lviv  Lviv Coffee Manufacture   Coffee shop     4.7    17937   \n",
       "101         Lviv                Svit Kavy   Coffee shop     4.6     2931   \n",
       "107         Lviv                Svit Kavy   Coffee shop     4.3      102   \n",
       "108         Lviv  Lviv Coffee Manufacture   Coffee shop     4.5      778   \n",
       "112         Lviv             coffee House   Coffee shop     4.7      363   \n",
       "120  Khrivoy Rog                  SV Кафе          Cafe     4.5      998   \n",
       "132  Khrivoy Rog                  SV Кафе          Cafe     4.6      740   \n",
       "151         Kiev                    Kaffa          Cafe     4.7     1281   \n",
       "154         Kiev                    Kaffa  Espresso bar     4.8      824   \n",
       "161      Kharkiv             Coffee House  Espresso bar     4.5      268   \n",
       "162      Kharkiv                  Sweeter   Coffee shop     4.6      642   \n",
       "167      Kharkiv             coffee House          Cafe     4.6       96   \n",
       "171      Kharkiv                 Dim Kavy  Espresso bar     4.7      185   \n",
       "172      Kharkiv                 Dim Kavy  Coffee store     4.7      222   \n",
       "173      Kharkiv                  Sweeter   Coffee shop     4.6      289   \n",
       "181       Dnipro                 Dim Kavy         Store     4.9       39   \n",
       "\n",
       "    Delivery option Dine in option Takeout option  \n",
       "23            False          False           True  \n",
       "45            False           True           True  \n",
       "66          unknown          False          False  \n",
       "68          unknown          False          False  \n",
       "71            False           True           True  \n",
       "97            False           True           True  \n",
       "100            True           True           True  \n",
       "101         unknown           True           True  \n",
       "107         unknown           True           True  \n",
       "108           False           True           True  \n",
       "112           False           True           True  \n",
       "120            True           True           True  \n",
       "132           False           True           True  \n",
       "151           False           True           True  \n",
       "154           False           True           True  \n",
       "161         unknown          False          False  \n",
       "162           False           True           True  \n",
       "167           False          False          False  \n",
       "171         unknown          False          False  \n",
       "172         unknown           True           True  \n",
       "173           False           True           True  \n",
       "181         unknown          False          False  "
      ]
     },
     "execution_count": 85,
     "metadata": {},
     "output_type": "execute_result"
    }
   ],
   "source": [
    "data[data['Place name'].duplicated(keep=False)]"
   ]
  },
  {
   "cell_type": "markdown",
   "id": "78578b6c",
   "metadata": {
    "tags": []
   },
   "source": [
    "Lastly, change the letters in the Place name and Place type columns into lower cases in order to avoid any categorical issue."
   ]
  },
  {
   "cell_type": "code",
   "execution_count": 86,
   "id": "6750ee3c",
   "metadata": {
    "tags": []
   },
   "outputs": [
    {
     "data": {
      "text/html": [
       "<div>\n",
       "<style scoped>\n",
       "    .dataframe tbody tr th:only-of-type {\n",
       "        vertical-align: middle;\n",
       "    }\n",
       "\n",
       "    .dataframe tbody tr th {\n",
       "        vertical-align: top;\n",
       "    }\n",
       "\n",
       "    .dataframe thead th {\n",
       "        text-align: right;\n",
       "    }\n",
       "</style>\n",
       "<table border=\"1\" class=\"dataframe\">\n",
       "  <thead>\n",
       "    <tr style=\"text-align: right;\">\n",
       "      <th></th>\n",
       "      <th>Region</th>\n",
       "      <th>Place name</th>\n",
       "      <th>Place type</th>\n",
       "      <th>Rating</th>\n",
       "      <th>Reviews</th>\n",
       "      <th>Delivery option</th>\n",
       "      <th>Dine in option</th>\n",
       "      <th>Takeout option</th>\n",
       "    </tr>\n",
       "  </thead>\n",
       "  <tbody>\n",
       "    <tr>\n",
       "      <th>0</th>\n",
       "      <td>Mariupol</td>\n",
       "      <td>dim kavu</td>\n",
       "      <td>coffee store</td>\n",
       "      <td>4.6</td>\n",
       "      <td>206</td>\n",
       "      <td>unknown</td>\n",
       "      <td>False</td>\n",
       "      <td>False</td>\n",
       "    </tr>\n",
       "    <tr>\n",
       "      <th>1</th>\n",
       "      <td>Mariupol</td>\n",
       "      <td>коферум</td>\n",
       "      <td>cafe</td>\n",
       "      <td>5.0</td>\n",
       "      <td>24</td>\n",
       "      <td>False</td>\n",
       "      <td>False</td>\n",
       "      <td>True</td>\n",
       "    </tr>\n",
       "    <tr>\n",
       "      <th>2</th>\n",
       "      <td>Mariupol</td>\n",
       "      <td>кофейня світ чаю</td>\n",
       "      <td>coffee shop</td>\n",
       "      <td>5.0</td>\n",
       "      <td>11</td>\n",
       "      <td>unknown</td>\n",
       "      <td>False</td>\n",
       "      <td>True</td>\n",
       "    </tr>\n",
       "    <tr>\n",
       "      <th>3</th>\n",
       "      <td>Mariupol</td>\n",
       "      <td>кофейня starcoff</td>\n",
       "      <td>coffee shop</td>\n",
       "      <td>4.4</td>\n",
       "      <td>331</td>\n",
       "      <td>False</td>\n",
       "      <td>True</td>\n",
       "      <td>True</td>\n",
       "    </tr>\n",
       "    <tr>\n",
       "      <th>4</th>\n",
       "      <td>Mariupol</td>\n",
       "      <td>кофейня \"friend zone\"</td>\n",
       "      <td>coffee shop</td>\n",
       "      <td>5.0</td>\n",
       "      <td>12</td>\n",
       "      <td>unknown</td>\n",
       "      <td>True</td>\n",
       "      <td>True</td>\n",
       "    </tr>\n",
       "  </tbody>\n",
       "</table>\n",
       "</div>"
      ],
      "text/plain": [
       "     Region             Place name    Place type  Rating  Reviews  \\\n",
       "0  Mariupol               dim kavu  coffee store     4.6      206   \n",
       "1  Mariupol                коферум          cafe     5.0       24   \n",
       "2  Mariupol       кофейня світ чаю   coffee shop     5.0       11   \n",
       "3  Mariupol       кофейня starcoff   coffee shop     4.4      331   \n",
       "4  Mariupol  кофейня \"friend zone\"   coffee shop     5.0       12   \n",
       "\n",
       "  Delivery option Dine in option Takeout option  \n",
       "0         unknown          False          False  \n",
       "1           False          False           True  \n",
       "2         unknown          False           True  \n",
       "3           False           True           True  \n",
       "4         unknown           True           True  "
      ]
     },
     "execution_count": 86,
     "metadata": {},
     "output_type": "execute_result"
    }
   ],
   "source": [
    "data['Place name'] = data['Place name'].str.lower()\n",
    "data['Place type'] = data['Place type'].str.lower()\n",
    "data.head()"
   ]
  },
  {
   "cell_type": "markdown",
   "id": "3454db96",
   "metadata": {
    "tags": []
   },
   "source": [
    "## 3.2 EDA (Exploratory Data Analysis)\n",
    "An EDA (Exploratory Data Analysis) will help understand the main characteristics of the dataset. Further analysis would be based on the findings explored from the EDA.\n",
    "\n"
   ]
  },
  {
   "cell_type": "code",
   "execution_count": 87,
   "id": "188dd402",
   "metadata": {
    "tags": []
   },
   "outputs": [],
   "source": [
    "#define categorical columns and numeric columns\n",
    "cat_columns = ['Place type', 'Delivery option', 'Dine in option', 'Takeout option']\n",
    "num_columns = ['Rating', 'Reviews']"
   ]
  },
  {
   "cell_type": "code",
   "execution_count": 88,
   "id": "88a4aaf5",
   "metadata": {
    "tags": []
   },
   "outputs": [
    {
     "data": {
      "image/png": "[encoded data removed]",
      "text/plain": [
       "<Figure size 864x1152 with 4 Axes>"
      ]
     },
     "metadata": {},
     "output_type": "display_data"
    }
   ],
   "source": [
    "#bar plots to see the value distributions in differnet columns\n",
    "plt.figure(figsize=(12,16))\n",
    "sns.set_context(\"notebook\")\n",
    "plt.style.use('ggplot') \n",
    "plt.subplots_adjust(hspace=0.4, wspace=0.6)\n",
    "sns.set_palette(\"Spectral\")\n",
    "for i, cat_col in enumerate(cat_columns):\n",
    "    plt.subplot(3, 2, i+1)\n",
    "    sns.countplot(y=cat_col, data=data, \n",
    "                  order=data[cat_col].value_counts().index)\n",
    "    plt.title(cat_col)\n",
    "    plt.xticks(rotation=0)\n",
    "plt.show()"
   ]
  },
  {
   "cell_type": "markdown",
   "id": "42a8b312",
   "metadata": {
    "tags": []
   },
   "source": [
    "Reagarding the plots above, most places are coffee shops. Most of them do not have a delivery service but have dine-in and take-out options."
   ]
  },
  {
   "cell_type": "code",
   "execution_count": 89,
   "id": "446df885",
   "metadata": {
    "tags": []
   },
   "outputs": [
    {
     "data": {
      "image/png": "[encoded data removed]",
      "text/plain": [
       "<Figure size 864x864 with 2 Axes>"
      ]
     },
     "metadata": {},
     "output_type": "display_data"
    }
   ],
   "source": [
    "#histogram to see the distributions in Rating and Reviews columns\n",
    "plt.figure(figsize=(12,12))\n",
    "plt.subplots_adjust(hspace=0.6, wspace=0.6)\n",
    "for i, num_col in enumerate(num_columns):\n",
    "    plt.subplot(2, 2, i+1)\n",
    "    sns.histplot(data[num_col], color='grey', kde=True)\n",
    "    plt.title(num_col)\n",
    "plt.show()"
   ]
  },
  {
   "cell_type": "markdown",
   "id": "b1681ac1",
   "metadata": {
    "tags": []
   },
   "source": [
    "Most shops have around 4 rating scores. As for the reviews column, it is highly skewed. It seems there are some outliners having super high reviews. Thus, this analysis would like to review whether the outliners are suitable to be kept."
   ]
  },
  {
   "cell_type": "code",
   "execution_count": 90,
   "id": "c83517ab-adfc-43e2-94aa-3083bba11b03",
   "metadata": {},
   "outputs": [
    {
     "data": {
      "image/png": "[encoded data removed]",
      "text/plain": [
       "<Figure size 864x288 with 1 Axes>"
      ]
     },
     "metadata": {},
     "output_type": "display_data"
    }
   ],
   "source": [
    "plt.figure(figsize=(12,4))\n",
    "sns.boxplot(x='Delivery option', y='Rating', data=data)\n",
    "plt.xlabel('Delivery option')\n",
    "plt.ylabel('Rating')\n",
    "plt.title('User Rating by Region')\n",
    "plt.show()\n"
   ]
  },
  {
   "cell_type": "code",
   "execution_count": 91,
   "id": "eb863c61-85fd-4ba5-b90e-1c19908cf51e",
   "metadata": {},
   "outputs": [
    {
     "data": {
      "image/png": "[encoded data removed]",
      "text/plain": [
       "<Figure size 864x288 with 1 Axes>"
      ]
     },
     "metadata": {},
     "output_type": "display_data"
    }
   ],
   "source": [
    "plt.figure(figsize=(12,4))\n",
    "sns.boxplot(x='Delivery option', y='Rating', data=data[data['Region'] == 'Odessa'])\n",
    "plt.xlabel('Delivery option')\n",
    "plt.ylabel('Rating')\n",
    "plt.title('User Rating in Odessa')\n",
    "plt.show()\n"
   ]
  },
  {
   "cell_type": "code",
   "execution_count": 92,
   "id": "f2baffc0-5179-45e6-9b1a-df0bdfac72eb",
   "metadata": {},
   "outputs": [
    {
     "data": {
      "image/png": "[encoded data removed]",
      "text/plain": [
       "<Figure size 864x288 with 1 Axes>"
      ]
     },
     "metadata": {},
     "output_type": "display_data"
    }
   ],
   "source": [
    "plt.figure(figsize=(12,4))\n",
    "sns.boxplot(x='Delivery option', y='Rating', data=data[data['Region'] == 'Poltava'])\n",
    "plt.xlabel('Delivery option')\n",
    "plt.ylabel('Rating')\n",
    "plt.title('User Rating in Poltava')\n",
    "plt.show()\n"
   ]
  },
  {
   "cell_type": "markdown",
   "id": "ed20afbb-b28b-4625-9090-af5f14718151",
   "metadata": {},
   "source": [
    "A general look it seems that delivery option does not matter, However Closer look in some Regions (i.e Odessa, Poltava) With delivery rate businesses get lower user ratings. This can be an business opportunity"
   ]
  },
  {
   "cell_type": "code",
   "execution_count": 93,
   "id": "a03ab1e1",
   "metadata": {
    "tags": []
   },
   "outputs": [
    {
     "data": {
      "image/png": "[encoded data removed]",
      "text/plain": [
       "<Figure size 432x288 with 1 Axes>"
      ]
     },
     "metadata": {},
     "output_type": "display_data"
    }
   ],
   "source": [
    "plt.boxplot(data['Reviews'])\n",
    "plt.xlabel('Reviews')\n",
    "plt.ylabel('Count')\n",
    "plt.title('Outliners of The Review Column')\n",
    "plt.show()"
   ]
  },
  {
   "cell_type": "code",
   "execution_count": 94,
   "id": "524a77c3",
   "metadata": {},
   "outputs": [
    {
     "data": {
      "text/html": [
       "<div>\n",
       "<style scoped>\n",
       "    .dataframe tbody tr th:only-of-type {\n",
       "        vertical-align: middle;\n",
       "    }\n",
       "\n",
       "    .dataframe tbody tr th {\n",
       "        vertical-align: top;\n",
       "    }\n",
       "\n",
       "    .dataframe thead th {\n",
       "        text-align: right;\n",
       "    }\n",
       "</style>\n",
       "<table border=\"1\" class=\"dataframe\">\n",
       "  <thead>\n",
       "    <tr style=\"text-align: right;\">\n",
       "      <th></th>\n",
       "      <th>Region</th>\n",
       "      <th>Place name</th>\n",
       "      <th>Place type</th>\n",
       "      <th>Rating</th>\n",
       "      <th>Reviews</th>\n",
       "      <th>Delivery option</th>\n",
       "      <th>Dine in option</th>\n",
       "      <th>Takeout option</th>\n",
       "    </tr>\n",
       "  </thead>\n",
       "  <tbody>\n",
       "    <tr>\n",
       "      <th>100</th>\n",
       "      <td>Lviv</td>\n",
       "      <td>lviv coffee manufacture</td>\n",
       "      <td>coffee shop</td>\n",
       "      <td>4.7</td>\n",
       "      <td>17937</td>\n",
       "      <td>True</td>\n",
       "      <td>True</td>\n",
       "      <td>True</td>\n",
       "    </tr>\n",
       "  </tbody>\n",
       "</table>\n",
       "</div>"
      ],
      "text/plain": [
       "    Region               Place name   Place type  Rating  Reviews  \\\n",
       "100   Lviv  lviv coffee manufacture  coffee shop     4.7    17937   \n",
       "\n",
       "    Delivery option Dine in option Takeout option  \n",
       "100            True           True           True  "
      ]
     },
     "execution_count": 94,
     "metadata": {},
     "output_type": "execute_result"
    }
   ],
   "source": [
    "review_top = data['Reviews'].mean()+data['Reviews'].std()*3\n",
    "data[data['Reviews'] > review_top]"
   ]
  },
  {
   "cell_type": "markdown",
   "id": "7698f784",
   "metadata": {},
   "source": [
    "It looks the place is a coffee manufacturer who would not be a huge concern if this analysis drops this shop. Although we might want to review this shop in the future, we can still evaluate it individually. It would be better to drop it for further analysis. Otherwise, it would cause issues when clustering."
   ]
  },
  {
   "cell_type": "code",
   "execution_count": 95,
   "id": "cc8c6e84",
   "metadata": {},
   "outputs": [
    {
     "data": {
      "text/html": [
       "<div>\n",
       "<style scoped>\n",
       "    .dataframe tbody tr th:only-of-type {\n",
       "        vertical-align: middle;\n",
       "    }\n",
       "\n",
       "    .dataframe tbody tr th {\n",
       "        vertical-align: top;\n",
       "    }\n",
       "\n",
       "    .dataframe thead th {\n",
       "        text-align: right;\n",
       "    }\n",
       "</style>\n",
       "<table border=\"1\" class=\"dataframe\">\n",
       "  <thead>\n",
       "    <tr style=\"text-align: right;\">\n",
       "      <th></th>\n",
       "      <th>Region</th>\n",
       "      <th>Place name</th>\n",
       "      <th>Place type</th>\n",
       "      <th>Rating</th>\n",
       "      <th>Reviews</th>\n",
       "      <th>Delivery option</th>\n",
       "      <th>Dine in option</th>\n",
       "      <th>Takeout option</th>\n",
       "    </tr>\n",
       "  </thead>\n",
       "  <tbody>\n",
       "    <tr>\n",
       "      <th>0</th>\n",
       "      <td>Mariupol</td>\n",
       "      <td>dim kavu</td>\n",
       "      <td>coffee store</td>\n",
       "      <td>4.6</td>\n",
       "      <td>206</td>\n",
       "      <td>unknown</td>\n",
       "      <td>False</td>\n",
       "      <td>False</td>\n",
       "    </tr>\n",
       "    <tr>\n",
       "      <th>1</th>\n",
       "      <td>Mariupol</td>\n",
       "      <td>коферум</td>\n",
       "      <td>cafe</td>\n",
       "      <td>5.0</td>\n",
       "      <td>24</td>\n",
       "      <td>False</td>\n",
       "      <td>False</td>\n",
       "      <td>True</td>\n",
       "    </tr>\n",
       "    <tr>\n",
       "      <th>2</th>\n",
       "      <td>Mariupol</td>\n",
       "      <td>кофейня світ чаю</td>\n",
       "      <td>coffee shop</td>\n",
       "      <td>5.0</td>\n",
       "      <td>11</td>\n",
       "      <td>unknown</td>\n",
       "      <td>False</td>\n",
       "      <td>True</td>\n",
       "    </tr>\n",
       "    <tr>\n",
       "      <th>3</th>\n",
       "      <td>Mariupol</td>\n",
       "      <td>кофейня starcoff</td>\n",
       "      <td>coffee shop</td>\n",
       "      <td>4.4</td>\n",
       "      <td>331</td>\n",
       "      <td>False</td>\n",
       "      <td>True</td>\n",
       "      <td>True</td>\n",
       "    </tr>\n",
       "    <tr>\n",
       "      <th>4</th>\n",
       "      <td>Mariupol</td>\n",
       "      <td>кофейня \"friend zone\"</td>\n",
       "      <td>coffee shop</td>\n",
       "      <td>5.0</td>\n",
       "      <td>12</td>\n",
       "      <td>unknown</td>\n",
       "      <td>True</td>\n",
       "      <td>True</td>\n",
       "    </tr>\n",
       "    <tr>\n",
       "      <th>...</th>\n",
       "      <td>...</td>\n",
       "      <td>...</td>\n",
       "      <td>...</td>\n",
       "      <td>...</td>\n",
       "      <td>...</td>\n",
       "      <td>...</td>\n",
       "      <td>...</td>\n",
       "      <td>...</td>\n",
       "    </tr>\n",
       "    <tr>\n",
       "      <th>195</th>\n",
       "      <td>Dnipro</td>\n",
       "      <td>artist</td>\n",
       "      <td>restaurant</td>\n",
       "      <td>4.6</td>\n",
       "      <td>963</td>\n",
       "      <td>unknown</td>\n",
       "      <td>True</td>\n",
       "      <td>True</td>\n",
       "    </tr>\n",
       "    <tr>\n",
       "      <th>196</th>\n",
       "      <td>Dnipro</td>\n",
       "      <td>dream cafe</td>\n",
       "      <td>cafe</td>\n",
       "      <td>4.3</td>\n",
       "      <td>646</td>\n",
       "      <td>False</td>\n",
       "      <td>True</td>\n",
       "      <td>True</td>\n",
       "    </tr>\n",
       "    <tr>\n",
       "      <th>197</th>\n",
       "      <td>Dnipro</td>\n",
       "      <td>рута кафе пп куліченко к.і.</td>\n",
       "      <td>cafe</td>\n",
       "      <td>4.6</td>\n",
       "      <td>16</td>\n",
       "      <td>False</td>\n",
       "      <td>True</td>\n",
       "      <td>True</td>\n",
       "    </tr>\n",
       "    <tr>\n",
       "      <th>198</th>\n",
       "      <td>Dnipro</td>\n",
       "      <td>ob'yektna kava</td>\n",
       "      <td>coffee shop</td>\n",
       "      <td>4.7</td>\n",
       "      <td>599</td>\n",
       "      <td>unknown</td>\n",
       "      <td>True</td>\n",
       "      <td>True</td>\n",
       "    </tr>\n",
       "    <tr>\n",
       "      <th>199</th>\n",
       "      <td>Dnipro</td>\n",
       "      <td>о...марат кафе пп полістеп</td>\n",
       "      <td>cafe</td>\n",
       "      <td>4.3</td>\n",
       "      <td>341</td>\n",
       "      <td>unknown</td>\n",
       "      <td>True</td>\n",
       "      <td>False</td>\n",
       "    </tr>\n",
       "  </tbody>\n",
       "</table>\n",
       "<p>199 rows × 8 columns</p>\n",
       "</div>"
      ],
      "text/plain": [
       "       Region                   Place name    Place type  Rating  Reviews  \\\n",
       "0    Mariupol                     dim kavu  coffee store     4.6      206   \n",
       "1    Mariupol                      коферум          cafe     5.0       24   \n",
       "2    Mariupol             кофейня світ чаю   coffee shop     5.0       11   \n",
       "3    Mariupol             кофейня starcoff   coffee shop     4.4      331   \n",
       "4    Mariupol        кофейня \"friend zone\"   coffee shop     5.0       12   \n",
       "..        ...                          ...           ...     ...      ...   \n",
       "195    Dnipro                       artist    restaurant     4.6      963   \n",
       "196    Dnipro                   dream cafe          cafe     4.3      646   \n",
       "197    Dnipro  рута кафе пп куліченко к.і.          cafe     4.6       16   \n",
       "198    Dnipro               ob'yektna kava   coffee shop     4.7      599   \n",
       "199    Dnipro   о...марат кафе пп полістеп          cafe     4.3      341   \n",
       "\n",
       "    Delivery option Dine in option Takeout option  \n",
       "0           unknown          False          False  \n",
       "1             False          False           True  \n",
       "2           unknown          False           True  \n",
       "3             False           True           True  \n",
       "4           unknown           True           True  \n",
       "..              ...            ...            ...  \n",
       "195         unknown           True           True  \n",
       "196           False           True           True  \n",
       "197           False           True           True  \n",
       "198         unknown           True           True  \n",
       "199         unknown           True          False  \n",
       "\n",
       "[199 rows x 8 columns]"
      ]
     },
     "execution_count": 95,
     "metadata": {},
     "output_type": "execute_result"
    }
   ],
   "source": [
    "#drop the outliner\n",
    "data_dropone = data.drop(100, axis=0)\n",
    "data_dropone"
   ]
  },
  {
   "cell_type": "code",
   "execution_count": 96,
   "id": "0d1792b4",
   "metadata": {},
   "outputs": [
    {
     "data": {
      "text/html": [
       "<div>\n",
       "<style scoped>\n",
       "    .dataframe tbody tr th:only-of-type {\n",
       "        vertical-align: middle;\n",
       "    }\n",
       "\n",
       "    .dataframe tbody tr th {\n",
       "        vertical-align: top;\n",
       "    }\n",
       "\n",
       "    .dataframe thead th {\n",
       "        text-align: right;\n",
       "    }\n",
       "</style>\n",
       "<table border=\"1\" class=\"dataframe\">\n",
       "  <thead>\n",
       "    <tr style=\"text-align: right;\">\n",
       "      <th></th>\n",
       "      <th>Region</th>\n",
       "      <th>Place name</th>\n",
       "      <th>Place type</th>\n",
       "      <th>Rating</th>\n",
       "      <th>Reviews</th>\n",
       "      <th>Delivery option</th>\n",
       "      <th>Dine in option</th>\n",
       "      <th>Takeout option</th>\n",
       "    </tr>\n",
       "  </thead>\n",
       "  <tbody>\n",
       "    <tr>\n",
       "      <th>0</th>\n",
       "      <td>Mariupol</td>\n",
       "      <td>dim kavu</td>\n",
       "      <td>coffee store</td>\n",
       "      <td>4.6</td>\n",
       "      <td>206</td>\n",
       "      <td>unknown</td>\n",
       "      <td>False</td>\n",
       "      <td>False</td>\n",
       "    </tr>\n",
       "    <tr>\n",
       "      <th>1</th>\n",
       "      <td>Mariupol</td>\n",
       "      <td>коферум</td>\n",
       "      <td>cafe</td>\n",
       "      <td>5.0</td>\n",
       "      <td>24</td>\n",
       "      <td>False</td>\n",
       "      <td>False</td>\n",
       "      <td>True</td>\n",
       "    </tr>\n",
       "    <tr>\n",
       "      <th>2</th>\n",
       "      <td>Mariupol</td>\n",
       "      <td>кофейня світ чаю</td>\n",
       "      <td>coffee shop</td>\n",
       "      <td>5.0</td>\n",
       "      <td>11</td>\n",
       "      <td>unknown</td>\n",
       "      <td>False</td>\n",
       "      <td>True</td>\n",
       "    </tr>\n",
       "    <tr>\n",
       "      <th>3</th>\n",
       "      <td>Mariupol</td>\n",
       "      <td>кофейня starcoff</td>\n",
       "      <td>coffee shop</td>\n",
       "      <td>4.4</td>\n",
       "      <td>331</td>\n",
       "      <td>False</td>\n",
       "      <td>True</td>\n",
       "      <td>True</td>\n",
       "    </tr>\n",
       "    <tr>\n",
       "      <th>4</th>\n",
       "      <td>Mariupol</td>\n",
       "      <td>кофейня \"friend zone\"</td>\n",
       "      <td>coffee shop</td>\n",
       "      <td>5.0</td>\n",
       "      <td>12</td>\n",
       "      <td>unknown</td>\n",
       "      <td>True</td>\n",
       "      <td>True</td>\n",
       "    </tr>\n",
       "    <tr>\n",
       "      <th>...</th>\n",
       "      <td>...</td>\n",
       "      <td>...</td>\n",
       "      <td>...</td>\n",
       "      <td>...</td>\n",
       "      <td>...</td>\n",
       "      <td>...</td>\n",
       "      <td>...</td>\n",
       "      <td>...</td>\n",
       "    </tr>\n",
       "    <tr>\n",
       "      <th>194</th>\n",
       "      <td>Dnipro</td>\n",
       "      <td>artist</td>\n",
       "      <td>restaurant</td>\n",
       "      <td>4.6</td>\n",
       "      <td>963</td>\n",
       "      <td>unknown</td>\n",
       "      <td>True</td>\n",
       "      <td>True</td>\n",
       "    </tr>\n",
       "    <tr>\n",
       "      <th>195</th>\n",
       "      <td>Dnipro</td>\n",
       "      <td>dream cafe</td>\n",
       "      <td>cafe</td>\n",
       "      <td>4.3</td>\n",
       "      <td>646</td>\n",
       "      <td>False</td>\n",
       "      <td>True</td>\n",
       "      <td>True</td>\n",
       "    </tr>\n",
       "    <tr>\n",
       "      <th>196</th>\n",
       "      <td>Dnipro</td>\n",
       "      <td>рута кафе пп куліченко к.і.</td>\n",
       "      <td>cafe</td>\n",
       "      <td>4.6</td>\n",
       "      <td>16</td>\n",
       "      <td>False</td>\n",
       "      <td>True</td>\n",
       "      <td>True</td>\n",
       "    </tr>\n",
       "    <tr>\n",
       "      <th>197</th>\n",
       "      <td>Dnipro</td>\n",
       "      <td>ob'yektna kava</td>\n",
       "      <td>coffee shop</td>\n",
       "      <td>4.7</td>\n",
       "      <td>599</td>\n",
       "      <td>unknown</td>\n",
       "      <td>True</td>\n",
       "      <td>True</td>\n",
       "    </tr>\n",
       "    <tr>\n",
       "      <th>198</th>\n",
       "      <td>Dnipro</td>\n",
       "      <td>о...марат кафе пп полістеп</td>\n",
       "      <td>cafe</td>\n",
       "      <td>4.3</td>\n",
       "      <td>341</td>\n",
       "      <td>unknown</td>\n",
       "      <td>True</td>\n",
       "      <td>False</td>\n",
       "    </tr>\n",
       "  </tbody>\n",
       "</table>\n",
       "<p>199 rows × 8 columns</p>\n",
       "</div>"
      ],
      "text/plain": [
       "       Region                   Place name    Place type  Rating  Reviews  \\\n",
       "0    Mariupol                     dim kavu  coffee store     4.6      206   \n",
       "1    Mariupol                      коферум          cafe     5.0       24   \n",
       "2    Mariupol             кофейня світ чаю   coffee shop     5.0       11   \n",
       "3    Mariupol             кофейня starcoff   coffee shop     4.4      331   \n",
       "4    Mariupol        кофейня \"friend zone\"   coffee shop     5.0       12   \n",
       "..        ...                          ...           ...     ...      ...   \n",
       "194    Dnipro                       artist    restaurant     4.6      963   \n",
       "195    Dnipro                   dream cafe          cafe     4.3      646   \n",
       "196    Dnipro  рута кафе пп куліченко к.і.          cafe     4.6       16   \n",
       "197    Dnipro               ob'yektna kava   coffee shop     4.7      599   \n",
       "198    Dnipro   о...марат кафе пп полістеп          cafe     4.3      341   \n",
       "\n",
       "    Delivery option Dine in option Takeout option  \n",
       "0           unknown          False          False  \n",
       "1             False          False           True  \n",
       "2           unknown          False           True  \n",
       "3             False           True           True  \n",
       "4           unknown           True           True  \n",
       "..              ...            ...            ...  \n",
       "194         unknown           True           True  \n",
       "195           False           True           True  \n",
       "196           False           True           True  \n",
       "197         unknown           True           True  \n",
       "198         unknown           True          False  \n",
       "\n",
       "[199 rows x 8 columns]"
      ]
     },
     "execution_count": 96,
     "metadata": {},
     "output_type": "execute_result"
    }
   ],
   "source": [
    "data_dropone.reset_index(drop=True)"
   ]
  },
  {
   "cell_type": "code",
   "execution_count": 97,
   "id": "605d7869",
   "metadata": {},
   "outputs": [
    {
     "data": {
      "text/html": [
       "<div>\n",
       "<style scoped>\n",
       "    .dataframe tbody tr th:only-of-type {\n",
       "        vertical-align: middle;\n",
       "    }\n",
       "\n",
       "    .dataframe tbody tr th {\n",
       "        vertical-align: top;\n",
       "    }\n",
       "\n",
       "    .dataframe thead th {\n",
       "        text-align: right;\n",
       "    }\n",
       "</style>\n",
       "<table border=\"1\" class=\"dataframe\">\n",
       "  <thead>\n",
       "    <tr style=\"text-align: right;\">\n",
       "      <th></th>\n",
       "      <th>Rating</th>\n",
       "      <th>Reviews</th>\n",
       "    </tr>\n",
       "    <tr>\n",
       "      <th>Region</th>\n",
       "      <th></th>\n",
       "      <th></th>\n",
       "    </tr>\n",
       "  </thead>\n",
       "  <tbody>\n",
       "    <tr>\n",
       "      <th>Dnipro</th>\n",
       "      <td>4.55</td>\n",
       "      <td>591.55</td>\n",
       "    </tr>\n",
       "    <tr>\n",
       "      <th>Kharkiv</th>\n",
       "      <td>4.58</td>\n",
       "      <td>544.45</td>\n",
       "    </tr>\n",
       "    <tr>\n",
       "      <th>Kherson</th>\n",
       "      <td>4.64</td>\n",
       "      <td>382.75</td>\n",
       "    </tr>\n",
       "    <tr>\n",
       "      <th>Khrivoy Rog</th>\n",
       "      <td>4.60</td>\n",
       "      <td>461.90</td>\n",
       "    </tr>\n",
       "    <tr>\n",
       "      <th>Kiev</th>\n",
       "      <td>4.78</td>\n",
       "      <td>764.60</td>\n",
       "    </tr>\n",
       "    <tr>\n",
       "      <th>Lviv</th>\n",
       "      <td>4.67</td>\n",
       "      <td>1096.63</td>\n",
       "    </tr>\n",
       "    <tr>\n",
       "      <th>Mariupol</th>\n",
       "      <td>4.70</td>\n",
       "      <td>193.80</td>\n",
       "    </tr>\n",
       "    <tr>\n",
       "      <th>Odessa</th>\n",
       "      <td>4.78</td>\n",
       "      <td>422.00</td>\n",
       "    </tr>\n",
       "    <tr>\n",
       "      <th>Poltava</th>\n",
       "      <td>4.65</td>\n",
       "      <td>535.25</td>\n",
       "    </tr>\n",
       "    <tr>\n",
       "      <th>Zaporozhye</th>\n",
       "      <td>4.67</td>\n",
       "      <td>389.95</td>\n",
       "    </tr>\n",
       "  </tbody>\n",
       "</table>\n",
       "</div>"
      ],
      "text/plain": [
       "             Rating  Reviews\n",
       "Region                      \n",
       "Dnipro         4.55   591.55\n",
       "Kharkiv        4.58   544.45\n",
       "Kherson        4.64   382.75\n",
       "Khrivoy Rog    4.60   461.90\n",
       "Kiev           4.78   764.60\n",
       "Lviv           4.67  1096.63\n",
       "Mariupol       4.70   193.80\n",
       "Odessa         4.78   422.00\n",
       "Poltava        4.65   535.25\n",
       "Zaporozhye     4.67   389.95"
      ]
     },
     "execution_count": 97,
     "metadata": {},
     "output_type": "execute_result"
    }
   ],
   "source": [
    "#group shops by regions and get the average numbers of the ratings and reviews\n",
    "region_grouped = data_dropone.groupby('Region')[num_columns].mean().round(2)\n",
    "region_grouped"
   ]
  },
  {
   "cell_type": "code",
   "execution_count": 98,
   "id": "763fe9bb",
   "metadata": {},
   "outputs": [
    {
     "data": {
      "image/png": "[encoded data removed]",
      "text/plain": [
       "<Figure size 1008x864 with 2 Axes>"
      ]
     },
     "metadata": {},
     "output_type": "display_data"
    }
   ],
   "source": [
    "#plot the average ratings and reviews per region\n",
    "plt.figure(figsize=(14,12))\n",
    "plt.subplots_adjust(hspace=0.2, wspace=0.34)\n",
    "sns.set_palette(\"Paired\")\n",
    "for i, group_col in enumerate(region_grouped.columns.to_list()):\n",
    "    plt.subplot(2, 2, i+1)\n",
    "    sns.barplot(x=region_grouped[group_col], y=region_grouped.index, log=True)\n",
    "    plt.title(group_col +' (Log Scale)')\n",
    "    plt.xticks(rotation=0)\n",
    "plt.show()"
   ]
  },
  {
   "cell_type": "markdown",
   "id": "48114d17",
   "metadata": {},
   "source": [
    "By looking at the average rating and reviews per region, they demonstrate that a high rating does not support high reviews for most regions. Only the shops in Kiev have a relatively high rating and high reviews."
   ]
  },
  {
   "cell_type": "markdown",
   "id": "765f0a21",
   "metadata": {
    "tags": []
   },
   "source": [
    "# 4. Analysis"
   ]
  },
  {
   "cell_type": "markdown",
   "id": "af1437cc",
   "metadata": {
    "tags": []
   },
   "source": [
    "## 4.1 Elbow Method\n",
    "This analysis chooses ratings and reviews for clustering because these numbers are the common metrics to evaluate marketing performance. Likewise, an Elbow method would help determine how many clusters are appropriate for the data."
   ]
  },
  {
   "cell_type": "code",
   "execution_count": 99,
   "id": "6b7b1405",
   "metadata": {},
   "outputs": [],
   "source": [
    "#import the packages for clustering\n",
    "from sklearn.preprocessing import StandardScaler\n",
    "from sklearn.cluster import KMeans"
   ]
  },
  {
   "cell_type": "code",
   "execution_count": 100,
   "id": "248e42b0",
   "metadata": {},
   "outputs": [
    {
     "data": {
      "text/html": [
       "<div>\n",
       "<style scoped>\n",
       "    .dataframe tbody tr th:only-of-type {\n",
       "        vertical-align: middle;\n",
       "    }\n",
       "\n",
       "    .dataframe tbody tr th {\n",
       "        vertical-align: top;\n",
       "    }\n",
       "\n",
       "    .dataframe thead th {\n",
       "        text-align: right;\n",
       "    }\n",
       "</style>\n",
       "<table border=\"1\" class=\"dataframe\">\n",
       "  <thead>\n",
       "    <tr style=\"text-align: right;\">\n",
       "      <th></th>\n",
       "      <th>Rating</th>\n",
       "      <th>Reviews</th>\n",
       "    </tr>\n",
       "  </thead>\n",
       "  <tbody>\n",
       "    <tr>\n",
       "      <th>0</th>\n",
       "      <td>4.6</td>\n",
       "      <td>206</td>\n",
       "    </tr>\n",
       "    <tr>\n",
       "      <th>1</th>\n",
       "      <td>5.0</td>\n",
       "      <td>24</td>\n",
       "    </tr>\n",
       "    <tr>\n",
       "      <th>2</th>\n",
       "      <td>5.0</td>\n",
       "      <td>11</td>\n",
       "    </tr>\n",
       "    <tr>\n",
       "      <th>3</th>\n",
       "      <td>4.4</td>\n",
       "      <td>331</td>\n",
       "    </tr>\n",
       "    <tr>\n",
       "      <th>4</th>\n",
       "      <td>5.0</td>\n",
       "      <td>12</td>\n",
       "    </tr>\n",
       "    <tr>\n",
       "      <th>...</th>\n",
       "      <td>...</td>\n",
       "      <td>...</td>\n",
       "    </tr>\n",
       "    <tr>\n",
       "      <th>195</th>\n",
       "      <td>4.6</td>\n",
       "      <td>963</td>\n",
       "    </tr>\n",
       "    <tr>\n",
       "      <th>196</th>\n",
       "      <td>4.3</td>\n",
       "      <td>646</td>\n",
       "    </tr>\n",
       "    <tr>\n",
       "      <th>197</th>\n",
       "      <td>4.6</td>\n",
       "      <td>16</td>\n",
       "    </tr>\n",
       "    <tr>\n",
       "      <th>198</th>\n",
       "      <td>4.7</td>\n",
       "      <td>599</td>\n",
       "    </tr>\n",
       "    <tr>\n",
       "      <th>199</th>\n",
       "      <td>4.3</td>\n",
       "      <td>341</td>\n",
       "    </tr>\n",
       "  </tbody>\n",
       "</table>\n",
       "<p>199 rows × 2 columns</p>\n",
       "</div>"
      ],
      "text/plain": [
       "     Rating  Reviews\n",
       "0       4.6      206\n",
       "1       5.0       24\n",
       "2       5.0       11\n",
       "3       4.4      331\n",
       "4       5.0       12\n",
       "..      ...      ...\n",
       "195     4.6      963\n",
       "196     4.3      646\n",
       "197     4.6       16\n",
       "198     4.7      599\n",
       "199     4.3      341\n",
       "\n",
       "[199 rows x 2 columns]"
      ]
     },
     "execution_count": 100,
     "metadata": {},
     "output_type": "execute_result"
    }
   ],
   "source": [
    "#select Rating and Reviews columns\n",
    "data_cluster = data_dropone[num_columns]\n",
    "data_cluster"
   ]
  },
  {
   "cell_type": "code",
   "execution_count": 101,
   "id": "b8198ff2",
   "metadata": {},
   "outputs": [
    {
     "data": {
      "text/html": [
       "<div>\n",
       "<style scoped>\n",
       "    .dataframe tbody tr th:only-of-type {\n",
       "        vertical-align: middle;\n",
       "    }\n",
       "\n",
       "    .dataframe tbody tr th {\n",
       "        vertical-align: top;\n",
       "    }\n",
       "\n",
       "    .dataframe thead th {\n",
       "        text-align: right;\n",
       "    }\n",
       "</style>\n",
       "<table border=\"1\" class=\"dataframe\">\n",
       "  <thead>\n",
       "    <tr style=\"text-align: right;\">\n",
       "      <th></th>\n",
       "      <th>Rating</th>\n",
       "      <th>Reviews</th>\n",
       "    </tr>\n",
       "  </thead>\n",
       "  <tbody>\n",
       "    <tr>\n",
       "      <th>mean</th>\n",
       "      <td>-0.0</td>\n",
       "      <td>-0.0</td>\n",
       "    </tr>\n",
       "    <tr>\n",
       "      <th>std</th>\n",
       "      <td>1.0</td>\n",
       "      <td>1.0</td>\n",
       "    </tr>\n",
       "  </tbody>\n",
       "</table>\n",
       "</div>"
      ],
      "text/plain": [
       "      Rating  Reviews\n",
       "mean    -0.0     -0.0\n",
       "std      1.0      1.0"
      ]
     },
     "execution_count": 101,
     "metadata": {},
     "output_type": "execute_result"
    }
   ],
   "source": [
    "#standardize variables in these two colums\n",
    "scaler=StandardScaler()\n",
    "scaler.fit(data_cluster)\n",
    "data_normalized = scaler.transform(data_cluster)\n",
    "data_normalized = pd.DataFrame(data=data_normalized, columns=data_cluster.columns)\n",
    "data_normalized.agg(['mean', 'std']).round()"
   ]
  },
  {
   "cell_type": "markdown",
   "id": "cfff4583",
   "metadata": {},
   "source": [
    "Standardization is required since the distributions of these two columns are skewed, as mentioned in the previous sections. Besides, a normal distribution would help K-means clustering get a better result."
   ]
  },
  {
   "cell_type": "code",
   "execution_count": 102,
   "id": "1b8e65a5",
   "metadata": {},
   "outputs": [
    {
     "data": {
      "image/png": "[encoded data removed]",
      "text/plain": [
       "<Figure size 432x288 with 1 Axes>"
      ]
     },
     "metadata": {},
     "output_type": "display_data"
    }
   ],
   "source": [
    "#find the elbow to determine the optimal number of clusters\n",
    "sse={}\n",
    "for k in range(1, 11):\n",
    "    kmeans = KMeans(n_clusters=k, random_state=1)\n",
    "    kmeans.fit(data_normalized)\n",
    "    sse[k] = kmeans.inertia_\n",
    "\n",
    "sns.pointplot(x=list(sse.keys()), y=list(sse.values()))\n",
    "plt.title('The Elbow Method')\n",
    "plt.xlabel('k')\n",
    "plt.ylabel('SSE')\n",
    "plt.show()"
   ]
  },
  {
   "cell_type": "markdown",
   "id": "2c5e8bdd",
   "metadata": {},
   "source": [
    "It is more efficient to choose 3 or 4 clusters, as the plot shown. The sharpest angels are at 3 or 4. It means more than 4 clusters would not have much difference between clusters due to the slope. Thus, this analysis chooses 4 clusters to proceed with the clustering analysis."
   ]
  },
  {
   "cell_type": "markdown",
   "id": "bc4b3671",
   "metadata": {},
   "source": [
    "## 4.2 K-means Clustering\n",
    "K-Mean clustering groups entries by SSE (Sum of Squared Distance), which is a good method to sort items with similar characters."
   ]
  },
  {
   "cell_type": "code",
   "execution_count": 103,
   "id": "420fc135",
   "metadata": {},
   "outputs": [
    {
     "data": {
      "text/html": [
       "<div>\n",
       "<style scoped>\n",
       "    .dataframe tbody tr th:only-of-type {\n",
       "        vertical-align: middle;\n",
       "    }\n",
       "\n",
       "    .dataframe tbody tr th {\n",
       "        vertical-align: top;\n",
       "    }\n",
       "\n",
       "    .dataframe thead th {\n",
       "        text-align: right;\n",
       "    }\n",
       "</style>\n",
       "<table border=\"1\" class=\"dataframe\">\n",
       "  <thead>\n",
       "    <tr style=\"text-align: right;\">\n",
       "      <th></th>\n",
       "      <th>Region</th>\n",
       "      <th>Place name</th>\n",
       "      <th>Place type</th>\n",
       "      <th>Rating</th>\n",
       "      <th>Reviews</th>\n",
       "      <th>Delivery option</th>\n",
       "      <th>Dine in option</th>\n",
       "      <th>Takeout option</th>\n",
       "      <th>cluster</th>\n",
       "    </tr>\n",
       "  </thead>\n",
       "  <tbody>\n",
       "    <tr>\n",
       "      <th>126</th>\n",
       "      <td>Khrivoy Rog</td>\n",
       "      <td>tea, coffee shop</td>\n",
       "      <td>coffee store</td>\n",
       "      <td>4.6</td>\n",
       "      <td>401</td>\n",
       "      <td>False</td>\n",
       "      <td>True</td>\n",
       "      <td>True</td>\n",
       "      <td>1</td>\n",
       "    </tr>\n",
       "    <tr>\n",
       "      <th>114</th>\n",
       "      <td>Lviv</td>\n",
       "      <td>svit kavy (rynok sq.)</td>\n",
       "      <td>coffee shop</td>\n",
       "      <td>4.6</td>\n",
       "      <td>1284</td>\n",
       "      <td>False</td>\n",
       "      <td>True</td>\n",
       "      <td>True</td>\n",
       "      <td>0</td>\n",
       "    </tr>\n",
       "    <tr>\n",
       "      <th>164</th>\n",
       "      <td>Kharkiv</td>\n",
       "      <td>мастерская кофе</td>\n",
       "      <td>coffee shop</td>\n",
       "      <td>4.7</td>\n",
       "      <td>403</td>\n",
       "      <td>False</td>\n",
       "      <td>True</td>\n",
       "      <td>True</td>\n",
       "      <td>1</td>\n",
       "    </tr>\n",
       "    <tr>\n",
       "      <th>136</th>\n",
       "      <td>Khrivoy Rog</td>\n",
       "      <td>дикий койот кафе</td>\n",
       "      <td>cafe</td>\n",
       "      <td>4.9</td>\n",
       "      <td>116</td>\n",
       "      <td>True</td>\n",
       "      <td>True</td>\n",
       "      <td>True</td>\n",
       "      <td>3</td>\n",
       "    </tr>\n",
       "    <tr>\n",
       "      <th>81</th>\n",
       "      <td>Odessa</td>\n",
       "      <td>traveler`s coffee</td>\n",
       "      <td>coffee shop</td>\n",
       "      <td>4.6</td>\n",
       "      <td>2700</td>\n",
       "      <td>True</td>\n",
       "      <td>True</td>\n",
       "      <td>True</td>\n",
       "      <td>0</td>\n",
       "    </tr>\n",
       "  </tbody>\n",
       "</table>\n",
       "</div>"
      ],
      "text/plain": [
       "          Region             Place name    Place type  Rating  Reviews  \\\n",
       "126  Khrivoy Rog       tea, coffee shop  coffee store     4.6      401   \n",
       "114         Lviv  svit kavy (rynok sq.)   coffee shop     4.6     1284   \n",
       "164      Kharkiv        мастерская кофе   coffee shop     4.7      403   \n",
       "136  Khrivoy Rog       дикий койот кафе          cafe     4.9      116   \n",
       "81        Odessa      traveler`s coffee   coffee shop     4.6     2700   \n",
       "\n",
       "    Delivery option Dine in option Takeout option  cluster  \n",
       "126           False           True           True        1  \n",
       "114           False           True           True        0  \n",
       "164           False           True           True        1  \n",
       "136            True           True           True        3  \n",
       "81             True           True           True        0  "
      ]
     },
     "execution_count": 103,
     "metadata": {},
     "output_type": "execute_result"
    }
   ],
   "source": [
    "#get the labels by K-means clustering and then attach the labels back to the data\n",
    "kmeans = KMeans(n_clusters=4, random_state=44)\n",
    "kmeans.fit(data_normalized)\n",
    "cluster_labels = kmeans.labels_\n",
    "\n",
    "data_dropone = data_dropone.assign(cluster=cluster_labels)\n",
    "data_dropone.sample(n=5)"
   ]
  },
  {
   "cell_type": "code",
   "execution_count": 104,
   "id": "5f79d5f6",
   "metadata": {
    "tags": []
   },
   "outputs": [
    {
     "data": {
      "text/plain": [
       "1    84\n",
       "3    58\n",
       "0    33\n",
       "2    24\n",
       "Name: cluster, dtype: int64"
      ]
     },
     "execution_count": 104,
     "metadata": {},
     "output_type": "execute_result"
    }
   ],
   "source": [
    "#review the number of entries in different clusters\n",
    "data_dropone['cluster'].value_counts()"
   ]
  },
  {
   "cell_type": "code",
   "execution_count": 105,
   "id": "53902412",
   "metadata": {},
   "outputs": [
    {
     "data": {
      "text/html": [
       "<div>\n",
       "<style scoped>\n",
       "    .dataframe tbody tr th:only-of-type {\n",
       "        vertical-align: middle;\n",
       "    }\n",
       "\n",
       "    .dataframe tbody tr th {\n",
       "        vertical-align: top;\n",
       "    }\n",
       "\n",
       "    .dataframe thead th {\n",
       "        text-align: right;\n",
       "    }\n",
       "</style>\n",
       "<table border=\"1\" class=\"dataframe\">\n",
       "  <thead>\n",
       "    <tr style=\"text-align: right;\">\n",
       "      <th></th>\n",
       "      <th>Rating</th>\n",
       "      <th>Reviews</th>\n",
       "    </tr>\n",
       "    <tr>\n",
       "      <th>cluster</th>\n",
       "      <th></th>\n",
       "      <th></th>\n",
       "    </tr>\n",
       "  </thead>\n",
       "  <tbody>\n",
       "    <tr>\n",
       "      <th>0</th>\n",
       "      <td>4.603030</td>\n",
       "      <td>1790.515152</td>\n",
       "    </tr>\n",
       "    <tr>\n",
       "      <th>1</th>\n",
       "      <td>4.628896</td>\n",
       "      <td>394.845238</td>\n",
       "    </tr>\n",
       "    <tr>\n",
       "      <th>2</th>\n",
       "      <td>4.262500</td>\n",
       "      <td>416.250000</td>\n",
       "    </tr>\n",
       "    <tr>\n",
       "      <th>3</th>\n",
       "      <td>4.913793</td>\n",
       "      <td>74.431034</td>\n",
       "    </tr>\n",
       "  </tbody>\n",
       "</table>\n",
       "</div>"
      ],
      "text/plain": [
       "           Rating      Reviews\n",
       "cluster                       \n",
       "0        4.603030  1790.515152\n",
       "1        4.628896   394.845238\n",
       "2        4.262500   416.250000\n",
       "3        4.913793    74.431034"
      ]
     },
     "execution_count": 105,
     "metadata": {},
     "output_type": "execute_result"
    }
   ],
   "source": [
    "#review the average ratings and reviews in different clusters\n",
    "data_comparison = data_dropone[['Rating', 'Reviews', 'cluster']].groupby('cluster').mean()\n",
    "data_comparison\n"
   ]
  },
  {
   "cell_type": "code",
   "execution_count": 106,
   "id": "d6329c81",
   "metadata": {},
   "outputs": [
    {
     "data": {
      "text/html": [
       "<div>\n",
       "<style scoped>\n",
       "    .dataframe tbody tr th:only-of-type {\n",
       "        vertical-align: middle;\n",
       "    }\n",
       "\n",
       "    .dataframe tbody tr th {\n",
       "        vertical-align: top;\n",
       "    }\n",
       "\n",
       "    .dataframe thead th {\n",
       "        text-align: right;\n",
       "    }\n",
       "</style>\n",
       "<table border=\"1\" class=\"dataframe\">\n",
       "  <thead>\n",
       "    <tr style=\"text-align: right;\">\n",
       "      <th></th>\n",
       "      <th>Rating</th>\n",
       "      <th>Reviews</th>\n",
       "      <th>rating_prop</th>\n",
       "      <th>review_prop</th>\n",
       "    </tr>\n",
       "    <tr>\n",
       "      <th>cluster</th>\n",
       "      <th></th>\n",
       "      <th></th>\n",
       "      <th></th>\n",
       "      <th></th>\n",
       "    </tr>\n",
       "  </thead>\n",
       "  <tbody>\n",
       "    <tr>\n",
       "      <th>0</th>\n",
       "      <td>4.603030</td>\n",
       "      <td>1790.515152</td>\n",
       "      <td>0.522853</td>\n",
       "      <td>1.000000</td>\n",
       "    </tr>\n",
       "    <tr>\n",
       "      <th>1</th>\n",
       "      <td>4.628896</td>\n",
       "      <td>394.845238</td>\n",
       "      <td>0.562567</td>\n",
       "      <td>0.186712</td>\n",
       "    </tr>\n",
       "    <tr>\n",
       "      <th>2</th>\n",
       "      <td>4.262500</td>\n",
       "      <td>416.250000</td>\n",
       "      <td>0.000000</td>\n",
       "      <td>0.199185</td>\n",
       "    </tr>\n",
       "    <tr>\n",
       "      <th>3</th>\n",
       "      <td>4.913793</td>\n",
       "      <td>74.431034</td>\n",
       "      <td>1.000000</td>\n",
       "      <td>0.000000</td>\n",
       "    </tr>\n",
       "  </tbody>\n",
       "</table>\n",
       "</div>"
      ],
      "text/plain": [
       "           Rating      Reviews  rating_prop  review_prop\n",
       "cluster                                                 \n",
       "0        4.603030  1790.515152     0.522853     1.000000\n",
       "1        4.628896   394.845238     0.562567     0.186712\n",
       "2        4.262500   416.250000     0.000000     0.199185\n",
       "3        4.913793    74.431034     1.000000     0.000000"
      ]
     },
     "execution_count": 106,
     "metadata": {},
     "output_type": "execute_result"
    }
   ],
   "source": [
    "#transform the numbers into proportions\n",
    "rating_range = data_comparison['Rating'].max() - data_comparison['Rating'].min()\n",
    "data_comparison['rating_prop'] = (data_comparison['Rating'] - data_comparison['Rating'].min()) / rating_range\n",
    "review_range = data_comparison['Reviews'].max() - data_comparison['Reviews'].min()\n",
    "data_comparison['review_prop'] = (data_comparison['Reviews'] - data_comparison['Reviews'].min()) / review_range\n",
    "data_comparison"
   ]
  },
  {
   "cell_type": "code",
   "execution_count": 107,
   "id": "3263cef7",
   "metadata": {},
   "outputs": [
    {
     "data": {
      "image/png": "[encoded data removed]",
      "text/plain": [
       "<Figure size 1152x432 with 2 Axes>"
      ]
     },
     "metadata": {},
     "output_type": "display_data"
    }
   ],
   "source": [
    "#heatmap to easily understand the value difference between clusters\n",
    "plt.subplots(figsize=(16, 6))\n",
    "sns.heatmap(data_comparison[['rating_prop', 'review_prop']], cmap = 'YlGnBu')\n",
    "plt.show()"
   ]
  },
  {
   "cell_type": "markdown",
   "id": "9c9d766b",
   "metadata": {},
   "source": [
    "Here are the clustering results.\n",
    "\n",
    "* Cluster 0 – Medium rating and high reviews\n",
    "* Cluster 1 – Both medium rating and reviews\n",
    "* Cluster 2 – Both low rating and reviews\n",
    "* Cluster 3 – High rating with low reviews\n",
    "\n",
    "Shops in cluster 0 have a medium ratings higher reviews. It tells the shops in this cluster have a better performance. so this analysis takes cluster 0 as an example to explore the traits of the shops.\n",
    "\n"
   ]
  },
  {
   "cell_type": "code",
   "execution_count": 108,
   "id": "c1782f82",
   "metadata": {},
   "outputs": [
    {
     "name": "stdout",
     "output_type": "stream",
     "text": [
      "Number of Coffee Places in Cluster 0: 33\n"
     ]
    },
    {
     "data": {
      "text/html": [
       "<div>\n",
       "<style scoped>\n",
       "    .dataframe tbody tr th:only-of-type {\n",
       "        vertical-align: middle;\n",
       "    }\n",
       "\n",
       "    .dataframe tbody tr th {\n",
       "        vertical-align: top;\n",
       "    }\n",
       "\n",
       "    .dataframe thead th {\n",
       "        text-align: right;\n",
       "    }\n",
       "</style>\n",
       "<table border=\"1\" class=\"dataframe\">\n",
       "  <thead>\n",
       "    <tr style=\"text-align: right;\">\n",
       "      <th></th>\n",
       "      <th>Region</th>\n",
       "      <th>Place name</th>\n",
       "      <th>Place type</th>\n",
       "      <th>Rating</th>\n",
       "      <th>Reviews</th>\n",
       "      <th>Delivery option</th>\n",
       "      <th>Dine in option</th>\n",
       "      <th>Takeout option</th>\n",
       "      <th>cluster</th>\n",
       "    </tr>\n",
       "  </thead>\n",
       "  <tbody>\n",
       "    <tr>\n",
       "      <th>20</th>\n",
       "      <td>Poltava</td>\n",
       "      <td>g coffee</td>\n",
       "      <td>coffee shop</td>\n",
       "      <td>4.5</td>\n",
       "      <td>1596</td>\n",
       "      <td>True</td>\n",
       "      <td>True</td>\n",
       "      <td>False</td>\n",
       "      <td>0</td>\n",
       "    </tr>\n",
       "    <tr>\n",
       "      <th>21</th>\n",
       "      <td>Poltava</td>\n",
       "      <td>kavun</td>\n",
       "      <td>coffee shop</td>\n",
       "      <td>4.7</td>\n",
       "      <td>1785</td>\n",
       "      <td>True</td>\n",
       "      <td>True</td>\n",
       "      <td>False</td>\n",
       "      <td>0</td>\n",
       "    </tr>\n",
       "    <tr>\n",
       "      <th>29</th>\n",
       "      <td>Poltava</td>\n",
       "      <td>dzhi</td>\n",
       "      <td>cafe</td>\n",
       "      <td>4.5</td>\n",
       "      <td>1195</td>\n",
       "      <td>True</td>\n",
       "      <td>True</td>\n",
       "      <td>True</td>\n",
       "      <td>0</td>\n",
       "    </tr>\n",
       "    <tr>\n",
       "      <th>34</th>\n",
       "      <td>Poltava</td>\n",
       "      <td>lviv handmade chocolate</td>\n",
       "      <td>chocolate shop</td>\n",
       "      <td>4.6</td>\n",
       "      <td>1376</td>\n",
       "      <td>False</td>\n",
       "      <td>True</td>\n",
       "      <td>True</td>\n",
       "      <td>0</td>\n",
       "    </tr>\n",
       "    <tr>\n",
       "      <th>42</th>\n",
       "      <td>Kherson</td>\n",
       "      <td>verona</td>\n",
       "      <td>european restaurant</td>\n",
       "      <td>4.5</td>\n",
       "      <td>1345</td>\n",
       "      <td>True</td>\n",
       "      <td>True</td>\n",
       "      <td>False</td>\n",
       "      <td>0</td>\n",
       "    </tr>\n",
       "  </tbody>\n",
       "</table>\n",
       "</div>"
      ],
      "text/plain": [
       "     Region               Place name           Place type  Rating  Reviews  \\\n",
       "20  Poltava                 g coffee          coffee shop     4.5     1596   \n",
       "21  Poltava                    kavun          coffee shop     4.7     1785   \n",
       "29  Poltava                     dzhi                 cafe     4.5     1195   \n",
       "34  Poltava  lviv handmade chocolate       chocolate shop     4.6     1376   \n",
       "42  Kherson                   verona  european restaurant     4.5     1345   \n",
       "\n",
       "   Delivery option Dine in option Takeout option  cluster  \n",
       "20            True           True          False        0  \n",
       "21            True           True          False        0  \n",
       "29            True           True           True        0  \n",
       "34           False           True           True        0  \n",
       "42            True           True          False        0  "
      ]
     },
     "execution_count": 108,
     "metadata": {},
     "output_type": "execute_result"
    }
   ],
   "source": [
    "#select the shops in cluster 3\n",
    "cluster_0 = data_dropone[data_dropone['cluster']==0]\n",
    "print('Number of Coffee Places in Cluster 0:', len(cluster_0))\n",
    "cluster_0.head()"
   ]
  },
  {
   "cell_type": "code",
   "execution_count": 109,
   "id": "ddd9ff59",
   "metadata": {},
   "outputs": [
    {
     "data": {
      "image/png": "[encoded data removed]",
      "text/plain": [
       "<Figure size 864x1152 with 4 Axes>"
      ]
     },
     "metadata": {},
     "output_type": "display_data"
    }
   ],
   "source": [
    "#plot the distributions in cluster 3\n",
    "plt.figure(figsize=(12,16))\n",
    "plt.subplots_adjust(hspace=0.4, wspace=0.6)\n",
    "sns.set_palette(\"Spectral\")\n",
    "for i, cat_col in enumerate(cat_columns):\n",
    "    plt.subplot(3, 2, i+1)\n",
    "    sns.countplot(y=cat_col, data=cluster_0, \n",
    "                  order=cluster_0[cat_col].value_counts().index)\n",
    "    plt.title(cat_col)\n",
    "    plt.xticks(rotation=0)\n",
    "plt.show()"
   ]
  },
  {
   "cell_type": "markdown",
   "id": "ac92bbd7",
   "metadata": {},
   "source": [
    "Here is the first view of the shop structure in cluster 0. It seems most shops in cluster 0 provide the same services as the previous exploratory analysis for all shops. The common type of the places in cluster 0 is a coffee shop. They do not provide a delivery service but have dine-in and takeout options. However, compared to the previous plot in the EDA section, we can notice that more shops in cluster 0 provide a delivery service, although they are still not the majority in this cluster. However, this analysis assumes that shops providing all services, which are delivery, dine-in, and take-out services, would have a higher possibility of getting higher ratings and reviews.\n"
   ]
  },
  {
   "cell_type": "code",
   "execution_count": 110,
   "id": "cb422aa9",
   "metadata": {},
   "outputs": [
    {
     "name": "stdout",
     "output_type": "stream",
     "text": [
      "21.2% of the Shops Provides All Services in Cluster 3.\n"
     ]
    }
   ],
   "source": [
    "#get the percentage of the shops providing all services in cluster 3\n",
    "deliver = cluster_0['Delivery option'] == True\n",
    "dinein = cluster_0['Dine in option'] == True\n",
    "takeout = cluster_0['Takeout option'] == True\n",
    "\n",
    "all_service_0 = cluster_0[deliver & dinein & takeout]\n",
    "prop_0 = len(all_service_0) / len(cluster_0)\n",
    "print('{:.1%} of the Shops Provides All Services in Cluster 3.'.format(prop_0))"
   ]
  },
  {
   "cell_type": "code",
   "execution_count": 111,
   "id": "7c173e38",
   "metadata": {},
   "outputs": [
    {
     "name": "stdout",
     "output_type": "stream",
     "text": [
      "10.7% of the Shops Provides All Services in Cluster 1.\n"
     ]
    }
   ],
   "source": [
    "#get the percentage of the shops providing all services in cluster 1\n",
    "cluster_1 = data_dropone[data_dropone['cluster']==1]\n",
    "deliver = cluster_1['Delivery option'] == True\n",
    "dinein = cluster_1['Dine in option'] == True\n",
    "takeout = cluster_1['Takeout option'] == True\n",
    "\n",
    "all_service_1 = cluster_1[deliver & dinein & takeout]\n",
    "prop_1 = len(all_service_1) / len(cluster_1)\n",
    "print('{:.1%} of the Shops Provides All Services in Cluster 1.'.format(prop_1))"
   ]
  },
  {
   "cell_type": "code",
   "execution_count": 112,
   "id": "ddb931bb",
   "metadata": {},
   "outputs": [
    {
     "name": "stdout",
     "output_type": "stream",
     "text": [
      "4.2% of the Shops Provides All Services in Cluster 2.\n"
     ]
    }
   ],
   "source": [
    "#get the percentage of the shops providing all services in cluster 2\n",
    "cluster_2 = data_dropone[data_dropone['cluster']==2]\n",
    "deliver = cluster_2['Delivery option'] == True\n",
    "dinein = cluster_2['Dine in option'] == True\n",
    "takeout = cluster_2['Takeout option'] == True\n",
    "\n",
    "all_service_2 = cluster_2[deliver & dinein & takeout]\n",
    "prop_2 = len(all_service_2) / len(cluster_2)\n",
    "print('{:.1%} of the Shops Provides All Services in Cluster 2.'.format(prop_2))"
   ]
  },
  {
   "cell_type": "code",
   "execution_count": 115,
   "id": "b6e6ab73",
   "metadata": {},
   "outputs": [
    {
     "name": "stdout",
     "output_type": "stream",
     "text": [
      "8.6% of the Shops Provides All Services in Cluster 3.\n"
     ]
    }
   ],
   "source": [
    "#get the percentage of the shops providing all services in cluster 3\n",
    "cluster_3 = data_dropone[data_dropone['cluster']==3]\n",
    "deliver = cluster_3['Delivery option'] == True\n",
    "dinein = cluster_3['Dine in option'] == True\n",
    "takeout = cluster_3['Takeout option'] == True\n",
    "\n",
    "all_service_3 = cluster_3[deliver & dinein & takeout]\n",
    "prop_3 = len(all_service_3) / len(cluster_3)\n",
    "print('{:.1%} of the Shops Provides All Services in Cluster 3.'.format(prop_3))"
   ]
  },
  {
   "cell_type": "code",
   "execution_count": 116,
   "id": "b8ca3abb",
   "metadata": {},
   "outputs": [
    {
     "data": {
      "image/png": "[encoded data removed]",
      "text/plain": [
       "<Figure size 864x432 with 1 Axes>"
      ]
     },
     "metadata": {},
     "output_type": "display_data"
    }
   ],
   "source": [
    "#plot the percentage of the shops providing all services in different clusters\n",
    "plt.figure(figsize=(12,6))\n",
    "cluster = ['Cluster 0', 'Cluster 1', 'Cluster 2', 'Cluster 3']\n",
    "proportion = [prop_0*100, prop_1*100, prop_2*100, prop_3*100]\n",
    "plt.bar(cluster, proportion, color = 'grey')\n",
    "plt.title('Proportion of The Shops Providing All Services', size=16, y=1.04)\n",
    "plt.xlabel('Clusters', size=14)\n",
    "plt.ylabel('Proportion (%)', size=14)\n",
    "plt.show()"
   ]
  },
  {
   "cell_type": "markdown",
   "id": "2cabeadd",
   "metadata": {},
   "source": [
    "Take a look at the proportions of the shops providing all services in different clusters. It is obvious that a higher percentage, 21.2%, of shops in cluster 0 provides all services. It could be a concern for the next marketing plan."
   ]
  },
  {
   "cell_type": "code",
   "execution_count": 117,
   "id": "c56ae8e2",
   "metadata": {},
   "outputs": [
    {
     "data": {
      "image/png": "[encoded data removed]",
      "text/plain": [
       "<Figure size 864x432 with 1 Axes>"
      ]
     },
     "metadata": {},
     "output_type": "display_data"
    }
   ],
   "source": [
    "plt.figure(figsize=(12,6))\n",
    "dict_0 = dict(cluster_0['Region'].value_counts())\n",
    "plt.bar(list(dict_0.keys()), list(dict_0.values()))\n",
    "plt.xticks(rotation=45)\n",
    "plt.title('Shops Sorted by Regions (Cluster 0)', y=1.04)\n",
    "plt.xlabel('Regions')\n",
    "plt.ylabel('Number of Shops in Cluster 0')\n",
    "plt.show()"
   ]
  },
  {
   "cell_type": "markdown",
   "id": "cadd2078",
   "metadata": {},
   "source": [
    "Take a look at the locations of the shops in cluster 0. Lviv and Kiev are the regions where these coffee shops are."
   ]
  },
  {
   "cell_type": "markdown",
   "id": "b6e19140",
   "metadata": {},
   "source": [
    "# 5. Conclusion\n",
    "\n",
    "This analysis uses an elbow method to get an optimal number of clusters for K-means clustering. Different clusters show different rating and review performance. The findings are as below.\n",
    "\n",
    "4 clusters is an optimal number of clusters to well split the shops based on the rating and review performance.\n",
    "* Cluster 0 – Medium rating and high reviews\n",
    "* Cluster 1 – Both medium rating and reviews\n",
    "* Cluster 2 – Both low rating and reviews\n",
    "* Cluster 3 – High rating with low reviews\n",
    "\n",
    "21.2% of shops provides all services, delivery, dine-in, and takeout options, in Cluster 0\n",
    "Shops in Lviv and Kiev are the majority in Cluster 0\n",
    "Lastly, here are suggestions for further analysis to explore more insights.\n",
    "\n",
    "Complete the data\n",
    "Since there are many missing values in this dataset, retrive the values would get a more accurate analysis.This\n",
    "Take a closer look for all clusters\n",
    "Explorre the characters of other clusters for further analysis since this analysis only focuses on the cluster 0.\n",
    "different clustering methods\n",
    "Use a hierarchical clustering method to group the shops and then cross-validate the results of different clustering methods.\n"
   ]
  },
  {
   "cell_type": "markdown",
   "id": "b6b41938",
   "metadata": {},
   "source": [
    "# 6. Reccommendations\n",
    "1. Compare with other markets\n",
    "2. Merge demographic and geospatial data\n",
    "3. Gather Google Trends and Google Ads data\n",
    "4. Deeper Analysis of Segments\n",
    "5. Target specific campaigns to each segment\n",
    "6. Explore, if profitable, the opportunities we found here"
   ]
  }
 ],
 "metadata": {
  "colab": {
   "name": "Welcome to DataCamp Workspaces.ipynb",
   "provenance": []
  },
  "kernelspec": {
   "display_name": "Python 3 (ipykernel)",
   "language": "python",
   "name": "python3"
  },
  "language_info": {
   "codemirror_mode": {
    "name": "ipython",
    "version": 3
   },
   "file_extension": ".py",
   "mimetype": "text/x-python",
   "name": "python",
   "nbconvert_exporter": "python",
   "pygments_lexer": "ipython3",
   "version": "3.8.10"
  }
 },
 "nbformat": 4,
 "nbformat_minor": 5
}
